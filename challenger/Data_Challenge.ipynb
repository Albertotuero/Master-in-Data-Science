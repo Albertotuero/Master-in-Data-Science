{
 "cells": [
  {
   "cell_type": "code",
   "execution_count": 1,
   "metadata": {
    "collapsed": true
   },
   "outputs": [],
   "source": [
    "import numpy as np\n",
    "import pandas as pd\n",
    "from pandas import Series,DataFrame"
   ]
  },
  {
   "cell_type": "code",
   "execution_count": 2,
   "metadata": {
    "collapsed": true
   },
   "outputs": [],
   "source": [
    "path_to_zips = '/home/dsc/Data/challenger'"
   ]
  },
  {
   "cell_type": "code",
   "execution_count": 6,
   "metadata": {
    "collapsed": false
   },
   "outputs": [
    {
     "name": "stdout",
     "output_type": "stream",
     "text": [
      "bookings.csv.bz2  searches.csv.bz2\r\n"
     ]
    }
   ],
   "source": [
    "! ls {path_to_zips}"
   ]
  },
  {
   "cell_type": "markdown",
   "metadata": {},
   "source": [
    "## Ejercicio 1"
   ]
  },
  {
   "cell_type": "code",
   "execution_count": 9,
   "metadata": {
    "collapsed": false
   },
   "outputs": [],
   "source": [
    "import bz2\n",
    "\n",
    "newfile = bz2.BZ2File(path_to_zips + \"/bookings.csv.bz2\")\n",
    "\n",
    "n = 0\n",
    "for l in newfile:\n",
    "    n = n + 1"
   ]
  },
  {
   "cell_type": "code",
   "execution_count": 10,
   "metadata": {
    "collapsed": false
   },
   "outputs": [
    {
     "data": {
      "text/plain": [
       "10000011"
      ]
     },
     "execution_count": 10,
     "metadata": {},
     "output_type": "execute_result"
    }
   ],
   "source": [
    "n"
   ]
  },
  {
   "cell_type": "markdown",
   "metadata": {},
   "source": [
    "## Ejercicio 2"
   ]
  },
  {
   "cell_type": "code",
   "execution_count": 11,
   "metadata": {
    "collapsed": true
   },
   "outputs": [],
   "source": [
    "Fichero de bookings con columna \n",
    "arr_port --> Aeropuerto\n",
    "pax --> Pasajeros"
   ]
  },
  {
   "cell_type": "code",
   "execution_count": 31,
   "metadata": {
    "collapsed": false
   },
   "outputs": [],
   "source": [
    "df = pd.read_csv(path_to_zips + \"/bookings.csv.bz2\", delimiter='^',usecols=[\"arr_port\",\"pax\"])\n"
   ]
  },
  {
   "cell_type": "code",
   "execution_count": 21,
   "metadata": {
    "collapsed": false
   },
   "outputs": [
    {
     "data": {
      "text/html": [
       "<div>\n",
       "<table border=\"1\" class=\"dataframe\">\n",
       "  <thead>\n",
       "    <tr style=\"text-align: right;\">\n",
       "      <th></th>\n",
       "      <th>arr_port</th>\n",
       "      <th>pax</th>\n",
       "    </tr>\n",
       "  </thead>\n",
       "  <tbody>\n",
       "    <tr>\n",
       "      <th>15144</th>\n",
       "      <td>BCN</td>\n",
       "      <td>1</td>\n",
       "    </tr>\n",
       "    <tr>\n",
       "      <th>49376</th>\n",
       "      <td>LAX</td>\n",
       "      <td>3</td>\n",
       "    </tr>\n",
       "    <tr>\n",
       "      <th>34381</th>\n",
       "      <td>LIM</td>\n",
       "      <td>1</td>\n",
       "    </tr>\n",
       "    <tr>\n",
       "      <th>36815</th>\n",
       "      <td>AJA</td>\n",
       "      <td>4</td>\n",
       "    </tr>\n",
       "    <tr>\n",
       "      <th>39498</th>\n",
       "      <td>LBV</td>\n",
       "      <td>-1</td>\n",
       "    </tr>\n",
       "  </tbody>\n",
       "</table>\n",
       "</div>"
      ],
      "text/plain": [
       "       arr_port  pax\n",
       "15144  BCN         1\n",
       "49376  LAX         3\n",
       "34381  LIM         1\n",
       "36815  AJA         4\n",
       "39498  LBV        -1"
      ]
     },
     "execution_count": 21,
     "metadata": {},
     "output_type": "execute_result"
    }
   ],
   "source": [
    "df.sample(5)"
   ]
  },
  {
   "cell_type": "code",
   "execution_count": 32,
   "metadata": {
    "collapsed": false
   },
   "outputs": [],
   "source": [
    "df_sum = df.groupby(\"arr_port\").sum().sort(\"pax\")"
   ]
  },
  {
   "cell_type": "code",
   "execution_count": 37,
   "metadata": {
    "collapsed": true
   },
   "outputs": [],
   "source": [
    "df2 = df_sum.reset_index()"
   ]
  },
  {
   "cell_type": "code",
   "execution_count": 39,
   "metadata": {
    "collapsed": false
   },
   "outputs": [
    {
     "data": {
      "text/html": [
       "<div>\n",
       "<table border=\"1\" class=\"dataframe\">\n",
       "  <thead>\n",
       "    <tr style=\"text-align: right;\">\n",
       "      <th></th>\n",
       "      <th>arr_port</th>\n",
       "      <th>pax</th>\n",
       "    </tr>\n",
       "  </thead>\n",
       "  <tbody>\n",
       "    <tr>\n",
       "      <th>2273</th>\n",
       "      <td>LHR</td>\n",
       "      <td>88809</td>\n",
       "    </tr>\n",
       "    <tr>\n",
       "      <th>2272</th>\n",
       "      <td>MCO</td>\n",
       "      <td>70930</td>\n",
       "    </tr>\n",
       "    <tr>\n",
       "      <th>2271</th>\n",
       "      <td>LAX</td>\n",
       "      <td>70530</td>\n",
       "    </tr>\n",
       "    <tr>\n",
       "      <th>2270</th>\n",
       "      <td>LAS</td>\n",
       "      <td>69630</td>\n",
       "    </tr>\n",
       "    <tr>\n",
       "      <th>2269</th>\n",
       "      <td>JFK</td>\n",
       "      <td>66270</td>\n",
       "    </tr>\n",
       "    <tr>\n",
       "      <th>2268</th>\n",
       "      <td>CDG</td>\n",
       "      <td>64490</td>\n",
       "    </tr>\n",
       "    <tr>\n",
       "      <th>2267</th>\n",
       "      <td>BKK</td>\n",
       "      <td>59460</td>\n",
       "    </tr>\n",
       "    <tr>\n",
       "      <th>2266</th>\n",
       "      <td>MIA</td>\n",
       "      <td>58150</td>\n",
       "    </tr>\n",
       "    <tr>\n",
       "      <th>2265</th>\n",
       "      <td>SFO</td>\n",
       "      <td>58000</td>\n",
       "    </tr>\n",
       "    <tr>\n",
       "      <th>2264</th>\n",
       "      <td>DXB</td>\n",
       "      <td>55590</td>\n",
       "    </tr>\n",
       "  </tbody>\n",
       "</table>\n",
       "</div>"
      ],
      "text/plain": [
       "      arr_port    pax\n",
       "2273  LHR       88809\n",
       "2272  MCO       70930\n",
       "2271  LAX       70530\n",
       "2270  LAS       69630\n",
       "2269  JFK       66270\n",
       "2268  CDG       64490\n",
       "2267  BKK       59460\n",
       "2266  MIA       58150\n",
       "2265  SFO       58000\n",
       "2264  DXB       55590"
      ]
     },
     "execution_count": 39,
     "metadata": {},
     "output_type": "execute_result"
    }
   ],
   "source": [
    "df2.sort('pax',ascending=False).head(10)"
   ]
  },
  {
   "cell_type": "code",
   "execution_count": null,
   "metadata": {
    "collapsed": true
   },
   "outputs": [],
   "source": [
    "# No cabe en memoria, hacerlo por chunks"
   ]
  },
  {
   "cell_type": "code",
   "execution_count": 71,
   "metadata": {
    "collapsed": true
   },
   "outputs": [],
   "source": [
    "# Objeto para iterar y cada iteración devuelve un dataframe\n",
    "df = pd.read_csv(path_to_zips + \"/bookings.csv.bz2\", delimiter='^',usecols=[\"arr_port\",\"pax\"],chunksize=100000)"
   ]
  },
  {
   "cell_type": "code",
   "execution_count": 67,
   "metadata": {
    "collapsed": false
   },
   "outputs": [],
   "source": [
    "# Primera solucion: Concatenación de los top 10\n",
    "l = []\n",
    "for chunk in df:\n",
    "    l.append(chunk.fillna(0).groupby('arr_port').sum().reset_index().sort('pax',ascending=False).head(10))\n",
    "\n",
    "total = pd.concat(l)\n",
    "total_2 = total.groupby('arr_port').sum().reset_index()\n",
    "total_2.sort('pax',ascending=False).head(10)"
   ]
  },
  {
   "cell_type": "code",
   "execution_count": null,
   "metadata": {
    "collapsed": true
   },
   "outputs": [],
   "source": [
    "# Segunda solucion: Concatenación de los agrupados\n",
    "l = []\n",
    "for chunk in df:\n",
    "    l.append(chunk.fillna(0).groupby('arr_port').sum().reset_index()\n",
    "\n",
    "total = pd.concat(l)\n",
    "total_2 = total.groupby('arr_port').sum().reset_index()\n",
    "total_2.sort('pax',ascending=False).head(10)"
   ]
  },
  {
   "cell_type": "code",
   "execution_count": 72,
   "metadata": {
    "collapsed": false,
    "scrolled": false
   },
   "outputs": [
    {
     "data": {
      "text/html": [
       "<div>\n",
       "<table border=\"1\" class=\"dataframe\">\n",
       "  <thead>\n",
       "    <tr style=\"text-align: right;\">\n",
       "      <th></th>\n",
       "      <th>arr_port</th>\n",
       "      <th>pax</th>\n",
       "    </tr>\n",
       "  </thead>\n",
       "  <tbody>\n",
       "    <tr>\n",
       "      <th>1088</th>\n",
       "      <td>LHR</td>\n",
       "      <td>88809</td>\n",
       "    </tr>\n",
       "    <tr>\n",
       "      <th>1190</th>\n",
       "      <td>MCO</td>\n",
       "      <td>70930</td>\n",
       "    </tr>\n",
       "    <tr>\n",
       "      <th>1050</th>\n",
       "      <td>LAX</td>\n",
       "      <td>70530</td>\n",
       "    </tr>\n",
       "    <tr>\n",
       "      <th>1047</th>\n",
       "      <td>LAS</td>\n",
       "      <td>69630</td>\n",
       "    </tr>\n",
       "    <tr>\n",
       "      <th>886</th>\n",
       "      <td>JFK</td>\n",
       "      <td>66270</td>\n",
       "    </tr>\n",
       "    <tr>\n",
       "      <th>315</th>\n",
       "      <td>CDG</td>\n",
       "      <td>64490</td>\n",
       "    </tr>\n",
       "    <tr>\n",
       "      <th>216</th>\n",
       "      <td>BKK</td>\n",
       "      <td>59460</td>\n",
       "    </tr>\n",
       "    <tr>\n",
       "      <th>1228</th>\n",
       "      <td>MIA</td>\n",
       "      <td>58150</td>\n",
       "    </tr>\n",
       "    <tr>\n",
       "      <th>1719</th>\n",
       "      <td>SFO</td>\n",
       "      <td>58000</td>\n",
       "    </tr>\n",
       "    <tr>\n",
       "      <th>517</th>\n",
       "      <td>DXB</td>\n",
       "      <td>55590</td>\n",
       "    </tr>\n",
       "  </tbody>\n",
       "</table>\n",
       "</div>"
      ],
      "text/plain": [
       "      arr_port    pax\n",
       "1088  LHR       88809\n",
       "1190  MCO       70930\n",
       "1050  LAX       70530\n",
       "1047  LAS       69630\n",
       "886   JFK       66270\n",
       "315   CDG       64490\n",
       "216   BKK       59460\n",
       "1228  MIA       58150\n",
       "1719  SFO       58000\n",
       "517   DXB       55590"
      ]
     },
     "execution_count": 72,
     "metadata": {},
     "output_type": "execute_result"
    }
   ],
   "source": [
    "# Tercera solucion: Concatenación de los agrupados, pero con tamaño constante\n",
    "primera_iteracion = True\n",
    "\n",
    "for chunk in df:\n",
    "    s = chunk.fillna(0).groupby('arr_port').sum().reset_index()\n",
    "    \n",
    "    if primera_iteracion == True:\n",
    "        total = s\n",
    "        primera_iteracion = False\n",
    "    else:\n",
    "        total = pd.concat([total,s])\n",
    "        \n",
    "    total = total.groupby('arr_port').sum().reset_index()\n",
    "\n",
    "total_2 = total.groupby('arr_port').sum().reset_index()\n",
    "total_2.sort('pax',ascending=False).head(10)"
   ]
  },
  {
   "cell_type": "code",
   "execution_count": 110,
   "metadata": {
    "collapsed": false
   },
   "outputs": [],
   "source": [
    "top = total_2.sort('pax',ascending=False).head(10)"
   ]
  },
  {
   "cell_type": "code",
   "execution_count": null,
   "metadata": {
    "collapsed": true
   },
   "outputs": [],
   "source": []
  },
  {
   "cell_type": "code",
   "execution_count": 40,
   "metadata": {
    "collapsed": true
   },
   "outputs": [],
   "source": [
    "## Ejercicio 3: Uso de Geobase"
   ]
  },
  {
   "cell_type": "code",
   "execution_count": null,
   "metadata": {
    "collapsed": true
   },
   "outputs": [],
   "source": [
    "# Instalación de geobase: sudo pip install geobases\n",
    "# En línea de comandos geobase + aeropuerto y se obtiene información del aeropuerto"
   ]
  },
  {
   "cell_type": "code",
   "execution_count": 74,
   "metadata": {
    "collapsed": false
   },
   "outputs": [
    {
     "name": "stdout",
     "output_type": "stream",
     "text": [
      "Loading \"ori_por\"...\n",
      "Looking for matches from MAD...\n",
      "Keeping 1 result(s) from 1 initially...\n",
      "\n",
      "\u001b[1m\u001b[31m__ref__                                 \u001b[0m\u001b[31m0                                       \u001b[0m\n",
      "\u001b[1m\u001b[44m\u001b[37m__key__                                 \u001b[0m\u001b[44m\u001b[37mMAD                                     \u001b[0m\n",
      "\u001b[1m\u001b[35m__dup__                                 \u001b[0m\u001b[35m['MAD@1']                               \u001b[0m\n",
      "\u001b[1m\u001b[35m__par__                                 \u001b[0m\u001b[35m[]                                      \u001b[0m\n",
      "\u001b[1m\u001b[35m__lno__                                 \u001b[0m\u001b[35m7379                                    \u001b[0m\n",
      "\u001b[1m\u001b[40m\u001b[37miata_code                               \u001b[0m\u001b[40m\u001b[37mMAD                                     \u001b[0m\n",
      "\u001b[1m\u001b[36micao_code                               \u001b[0m\u001b[36mLEMD                                    \u001b[0m\n",
      "\u001b[1m\u001b[40m\u001b[37mfaa_code                                \u001b[0m\u001b[40m\u001b[37m                                        \u001b[0m\n",
      "\u001b[1m\u001b[36mis_geonames                             \u001b[0m\u001b[36mY                                       \u001b[0m\n",
      "\u001b[1m\u001b[40m\u001b[37mgeoname_id                              \u001b[0m\u001b[40m\u001b[37m6299345                                 \u001b[0m\n",
      "\u001b[1m\u001b[36mvalid_id                                \u001b[0m\u001b[36m                                        \u001b[0m\n",
      "\u001b[1m\u001b[40m\u001b[37mname                                    \u001b[0m\u001b[40m\u001b[37mMadrid / Barajas                        \u001b[0m\n",
      "\u001b[1m\u001b[36masciiname                               \u001b[0m\u001b[36mMadrid / Barajas                        \u001b[0m\n",
      "\u001b[1m\u001b[40m\u001b[37mlat                                     \u001b[0m\u001b[40m\u001b[37m40.493556                               \u001b[0m\n",
      "\u001b[1m\u001b[36mlng                                     \u001b[0m\u001b[36m-3.566764                               \u001b[0m\n",
      "\u001b[1m\u001b[40m\u001b[32mfclass                                  \u001b[0m\u001b[40m\u001b[32mS                                       \u001b[0m\n",
      "\u001b[1m\u001b[32mfcode                                   \u001b[0m\u001b[32mAIRP                                    \u001b[0m\n",
      "\u001b[1m\u001b[40m\u001b[37mpage_rank                               \u001b[0m\u001b[40m\u001b[37m0.392784873731                          \u001b[0m\n",
      "\u001b[1m\u001b[36mdate_from                               \u001b[0m\u001b[36m                                        \u001b[0m\n",
      "\u001b[1m\u001b[40m\u001b[37mdate_until                              \u001b[0m\u001b[40m\u001b[37m                                        \u001b[0m\n",
      "\u001b[1m\u001b[36mcomment                                 \u001b[0m\u001b[36m                                        \u001b[0m\n",
      "\u001b[1m\u001b[40m\u001b[32mcountry_code                            \u001b[0m\u001b[40m\u001b[32mES                                      \u001b[0m\n",
      "\u001b[1m\u001b[36mcc2                                     \u001b[0m\u001b[36m                                        \u001b[0m\n",
      "\u001b[1m\u001b[40m\u001b[37mcountry_name                            \u001b[0m\u001b[40m\u001b[37mSpain                                   \u001b[0m\n",
      "\u001b[1m\u001b[32mcontinent_name                          \u001b[0m\u001b[32mEurope                                  \u001b[0m\n",
      "\u001b[1m\u001b[40m\u001b[37madm1_code                               \u001b[0m\u001b[40m\u001b[37m29                                      \u001b[0m\n",
      "\u001b[1m\u001b[36madm1_name_utf                           \u001b[0m\u001b[36mMadrid                                  \u001b[0m\n",
      "\u001b[1m\u001b[40m\u001b[37madm1_name_ascii                         \u001b[0m\u001b[40m\u001b[37mMadrid                                  \u001b[0m\n",
      "\u001b[1m\u001b[36madm2_code                               \u001b[0m\u001b[36mM                                       \u001b[0m\n",
      "\u001b[1m\u001b[40m\u001b[37madm2_name_utf                           \u001b[0m\u001b[40m\u001b[37mProvincia de Madrid                     \u001b[0m\n",
      "\u001b[1m\u001b[36madm2_name_ascii                         \u001b[0m\u001b[36mProvincia de Madrid                     \u001b[0m\n",
      "\u001b[1m\u001b[40m\u001b[37madm3_code                               \u001b[0m\u001b[40m\u001b[37m28079                                   \u001b[0m\n",
      "\u001b[1m\u001b[36madm4_code                               \u001b[0m\u001b[36m                                        \u001b[0m\n",
      "\u001b[1m\u001b[40m\u001b[37mpopulation                              \u001b[0m\u001b[40m\u001b[37m0                                       \u001b[0m\n",
      "\u001b[1m\u001b[36melevation                               \u001b[0m\u001b[36m609                                     \u001b[0m\n",
      "\u001b[1m\u001b[40m\u001b[37mgtopo30                                 \u001b[0m\u001b[40m\u001b[37m575                                     \u001b[0m\n",
      "\u001b[1m\u001b[32mtimezone                                \u001b[0m\u001b[32mEurope/Madrid                           \u001b[0m\n",
      "\u001b[1m\u001b[40m\u001b[37mgmt_offset                              \u001b[0m\u001b[40m\u001b[37m1.0                                     \u001b[0m\n",
      "\u001b[1m\u001b[36mdst_offset                              \u001b[0m\u001b[36m2.0                                     \u001b[0m\n",
      "\u001b[1m\u001b[40m\u001b[37mraw_offset                              \u001b[0m\u001b[40m\u001b[37m1.0                                     \u001b[0m\n",
      "\u001b[1m\u001b[36mmoddate                                 \u001b[0m\u001b[36m2012-03-04                              \u001b[0m\n",
      "\u001b[1m\u001b[40m\u001b[32mcity_code                               \u001b[0m\u001b[40m\u001b[32mMAD                                     \u001b[0m\n",
      "\u001b[1m\u001b[36mcity_name_utf                           \u001b[0m\u001b[36mMadrid                                  \u001b[0m\n",
      "\u001b[1m\u001b[40m\u001b[37mcity_name_ascii                         \u001b[0m\u001b[40m\u001b[37mMadrid                                  \u001b[0m\n",
      "\u001b[1m\u001b[33mtvl_por_list@raw                        \u001b[0m\u001b[33m                                        \u001b[0m\n",
      "\u001b[1m\u001b[40m\u001b[32mtvl_por_list                            \u001b[0m\u001b[40m\u001b[32m()                                      \u001b[0m\n",
      "\u001b[1m\u001b[36mstate_code                              \u001b[0m\u001b[36m                                        \u001b[0m\n",
      "\u001b[1m\u001b[40m\u001b[33mlocation_type@raw                       \u001b[0m\u001b[40m\u001b[33mA                                       \u001b[0m\n",
      "\u001b[1m\u001b[32mlocation_type                           \u001b[0m\u001b[32m('A',)                                  \u001b[0m\n",
      "\u001b[1m\u001b[40m\u001b[37mwiki_link                               \u001b[0m\u001b[40m\u001b[37mhttp://en.wikipedia.org/wiki/Madrid-Barajas_Airport\u001b[0m\n",
      "\u001b[1m\u001b[33malt_name_section@raw                    \u001b[0m\u001b[33mes|Aeropuerto de Madrid|=es|Barajas|=de|Flughafen Madrid|p\u001b[0m\n",
      "\u001b[1m\u001b[40m\u001b[37malt_name_section                        \u001b[0m\u001b[40m\u001b[37m(('es', 'Aeropuerto de Madrid', ''), ('es', 'Barajas', ''), ('de', 'Flughafen Madrid', 'p'))\u001b[0m\n",
      "\u001b[1m\u001b[35m__gar__                                 \u001b[0m\u001b[35m[]                                      \u001b[0m\n",
      "\u001b[0m"
     ]
    }
   ],
   "source": [
    "!GeoBase MAD"
   ]
  },
  {
   "cell_type": "code",
   "execution_count": 75,
   "metadata": {
    "collapsed": true
   },
   "outputs": [],
   "source": [
    "from GeoBases import GeoBase"
   ]
  },
  {
   "cell_type": "code",
   "execution_count": 76,
   "metadata": {
    "collapsed": true
   },
   "outputs": [],
   "source": [
    "g = GeoBase(data='ori_por',verbose=False)"
   ]
  },
  {
   "cell_type": "code",
   "execution_count": 119,
   "metadata": {
    "collapsed": false
   },
   "outputs": [
    {
     "data": {
      "text/plain": [
       "'Madrid / Barajas'"
      ]
     },
     "execution_count": 119,
     "metadata": {},
     "output_type": "execute_result"
    }
   ],
   "source": [
    "g.get('MAD')['city_name_ascii']\n",
    "g.get('MAD')['name']"
   ]
  },
  {
   "cell_type": "code",
   "execution_count": 113,
   "metadata": {
    "collapsed": true
   },
   "outputs": [],
   "source": [
    "def nombre_aeropuerto(codigo):\n",
    "    return g.get(codigo.strip())['name']"
   ]
  },
  {
   "cell_type": "code",
   "execution_count": 115,
   "metadata": {
    "collapsed": false
   },
   "outputs": [
    {
     "data": {
      "text/html": [
       "<div>\n",
       "<table border=\"1\" class=\"dataframe\">\n",
       "  <thead>\n",
       "    <tr style=\"text-align: right;\">\n",
       "      <th></th>\n",
       "      <th>arr_port</th>\n",
       "      <th>pax</th>\n",
       "      <th>arr_port_good</th>\n",
       "      <th>names</th>\n",
       "      <th>cities</th>\n",
       "      <th>countries</th>\n",
       "      <th>names_map</th>\n",
       "    </tr>\n",
       "  </thead>\n",
       "  <tbody>\n",
       "    <tr>\n",
       "      <th>1088</th>\n",
       "      <td>LHR</td>\n",
       "      <td>88809</td>\n",
       "      <td>NaN</td>\n",
       "      <td>London Heathrow Airport</td>\n",
       "      <td>London</td>\n",
       "      <td>United Kingdom</td>\n",
       "      <td>London Heathrow Airport</td>\n",
       "    </tr>\n",
       "    <tr>\n",
       "      <th>1190</th>\n",
       "      <td>MCO</td>\n",
       "      <td>70930</td>\n",
       "      <td>NaN</td>\n",
       "      <td>Orlando International Airport</td>\n",
       "      <td>Orlando</td>\n",
       "      <td>United States</td>\n",
       "      <td>Orlando International Airport</td>\n",
       "    </tr>\n",
       "    <tr>\n",
       "      <th>1050</th>\n",
       "      <td>LAX</td>\n",
       "      <td>70530</td>\n",
       "      <td>NaN</td>\n",
       "      <td>Los Angeles International Airport</td>\n",
       "      <td>Los Angeles</td>\n",
       "      <td>United States</td>\n",
       "      <td>Los Angeles International Airport</td>\n",
       "    </tr>\n",
       "    <tr>\n",
       "      <th>1047</th>\n",
       "      <td>LAS</td>\n",
       "      <td>69630</td>\n",
       "      <td>NaN</td>\n",
       "      <td>Mc Carran International Airport</td>\n",
       "      <td>Las Vegas</td>\n",
       "      <td>United States</td>\n",
       "      <td>Mc Carran International Airport</td>\n",
       "    </tr>\n",
       "    <tr>\n",
       "      <th>886</th>\n",
       "      <td>JFK</td>\n",
       "      <td>66270</td>\n",
       "      <td>NaN</td>\n",
       "      <td>John F Kennedy International Airport</td>\n",
       "      <td>New York City</td>\n",
       "      <td>United States</td>\n",
       "      <td>John F Kennedy International Airport</td>\n",
       "    </tr>\n",
       "    <tr>\n",
       "      <th>315</th>\n",
       "      <td>CDG</td>\n",
       "      <td>64490</td>\n",
       "      <td>NaN</td>\n",
       "      <td>Paris - Charles-de-Gaulle</td>\n",
       "      <td>Paris</td>\n",
       "      <td>France</td>\n",
       "      <td>Paris - Charles-de-Gaulle</td>\n",
       "    </tr>\n",
       "    <tr>\n",
       "      <th>216</th>\n",
       "      <td>BKK</td>\n",
       "      <td>59460</td>\n",
       "      <td>NaN</td>\n",
       "      <td>Suvarnabhumi</td>\n",
       "      <td>Bangkok</td>\n",
       "      <td>Thailand</td>\n",
       "      <td>Suvarnabhumi</td>\n",
       "    </tr>\n",
       "    <tr>\n",
       "      <th>1228</th>\n",
       "      <td>MIA</td>\n",
       "      <td>58150</td>\n",
       "      <td>NaN</td>\n",
       "      <td>Miami International Airport</td>\n",
       "      <td>Miami</td>\n",
       "      <td>United States</td>\n",
       "      <td>Miami International Airport</td>\n",
       "    </tr>\n",
       "    <tr>\n",
       "      <th>1719</th>\n",
       "      <td>SFO</td>\n",
       "      <td>58000</td>\n",
       "      <td>NaN</td>\n",
       "      <td>San Francisco International Airport</td>\n",
       "      <td>San Francisco</td>\n",
       "      <td>United States</td>\n",
       "      <td>San Francisco International Airport</td>\n",
       "    </tr>\n",
       "    <tr>\n",
       "      <th>517</th>\n",
       "      <td>DXB</td>\n",
       "      <td>55590</td>\n",
       "      <td>NaN</td>\n",
       "      <td>Dubai International Airport</td>\n",
       "      <td>Dubai</td>\n",
       "      <td>United Arab Emirates</td>\n",
       "      <td>Dubai International Airport</td>\n",
       "    </tr>\n",
       "  </tbody>\n",
       "</table>\n",
       "</div>"
      ],
      "text/plain": [
       "      arr_port    pax arr_port_good                                 names  \\\n",
       "1088  LHR       88809           NaN               London Heathrow Airport   \n",
       "1190  MCO       70930           NaN         Orlando International Airport   \n",
       "1050  LAX       70530           NaN     Los Angeles International Airport   \n",
       "1047  LAS       69630           NaN       Mc Carran International Airport   \n",
       "886   JFK       66270           NaN  John F Kennedy International Airport   \n",
       "315   CDG       64490           NaN             Paris - Charles-de-Gaulle   \n",
       "216   BKK       59460           NaN                          Suvarnabhumi   \n",
       "1228  MIA       58150           NaN           Miami International Airport   \n",
       "1719  SFO       58000           NaN   San Francisco International Airport   \n",
       "517   DXB       55590           NaN           Dubai International Airport   \n",
       "\n",
       "             cities             countries  \\\n",
       "1088         London        United Kingdom   \n",
       "1190        Orlando         United States   \n",
       "1050    Los Angeles         United States   \n",
       "1047      Las Vegas         United States   \n",
       "886   New York City         United States   \n",
       "315           Paris                France   \n",
       "216         Bangkok              Thailand   \n",
       "1228          Miami         United States   \n",
       "1719  San Francisco         United States   \n",
       "517           Dubai  United Arab Emirates   \n",
       "\n",
       "                                 names_map  \n",
       "1088               London Heathrow Airport  \n",
       "1190         Orlando International Airport  \n",
       "1050     Los Angeles International Airport  \n",
       "1047       Mc Carran International Airport  \n",
       "886   John F Kennedy International Airport  \n",
       "315              Paris - Charles-de-Gaulle  \n",
       "216                           Suvarnabhumi  \n",
       "1228           Miami International Airport  \n",
       "1719   San Francisco International Airport  \n",
       "517            Dubai International Airport  "
      ]
     },
     "execution_count": 115,
     "metadata": {},
     "output_type": "execute_result"
    }
   ],
   "source": [
    "top['names_map'] = top['arr_port'].map(nombre_aeropuerto)\n",
    "top"
   ]
  },
  {
   "cell_type": "code",
   "execution_count": 112,
   "metadata": {
    "collapsed": false
   },
   "outputs": [],
   "source": [
    "cities = top.arr_port.apply(lambda a: g.get(a.strip())['city_name_ascii'])\n",
    "countries = top.arr_port.map(lambda a: g.get(a.strip())['country_name'])\n",
    "\n",
    "top['cities'] = cities\n",
    "top['countries'] = countries"
   ]
  },
  {
   "cell_type": "code",
   "execution_count": null,
   "metadata": {
    "collapsed": true
   },
   "outputs": [],
   "source": []
  }
 ],
 "metadata": {
  "kernelspec": {
   "display_name": "Python 2",
   "language": "python",
   "name": "python2"
  },
  "language_info": {
   "codemirror_mode": {
    "name": "ipython",
    "version": 2
   },
   "file_extension": ".py",
   "mimetype": "text/x-python",
   "name": "python",
   "nbconvert_exporter": "python",
   "pygments_lexer": "ipython2",
   "version": "2.7.10"
  }
 },
 "nbformat": 4,
 "nbformat_minor": 0
}
