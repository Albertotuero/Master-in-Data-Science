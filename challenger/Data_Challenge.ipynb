{
 "cells": [
  {
   "cell_type": "code",
   "execution_count": 1,
   "metadata": {
    "collapsed": true
   },
   "outputs": [],
   "source": [
    "import numpy as np\n",
    "import pandas as pd\n",
    "from pandas import Series,DataFrame"
   ]
  },
  {
   "cell_type": "code",
   "execution_count": 2,
   "metadata": {
    "collapsed": true
   },
   "outputs": [],
   "source": [
    "path_to_zips = '/home/dsc/Data/challenger'"
   ]
  },
  {
   "cell_type": "code",
   "execution_count": 6,
   "metadata": {
    "collapsed": false
   },
   "outputs": [
    {
     "name": "stdout",
     "output_type": "stream",
     "text": [
      "bookings.csv.bz2  searches.csv.bz2\r\n"
     ]
    }
   ],
   "source": [
    "! ls {path_to_zips}"
   ]
  },
  {
   "cell_type": "markdown",
   "metadata": {},
   "source": [
    "## Ejercicio 1"
   ]
  },
  {
   "cell_type": "code",
   "execution_count": 9,
   "metadata": {
    "collapsed": false
   },
   "outputs": [],
   "source": [
    "import bz2\n",
    "\n",
    "newfile = bz2.BZ2File(path_to_zips + \"/bookings.csv.bz2\")\n",
    "\n",
    "n = 0\n",
    "for l in newfile:\n",
    "    n = n + 1"
   ]
  },
  {
   "cell_type": "code",
   "execution_count": 10,
   "metadata": {
    "collapsed": false
   },
   "outputs": [
    {
     "data": {
      "text/plain": [
       "10000011"
      ]
     },
     "execution_count": 10,
     "metadata": {},
     "output_type": "execute_result"
    }
   ],
   "source": [
    "n"
   ]
  },
  {
   "cell_type": "markdown",
   "metadata": {},
   "source": [
    "## Ejercicio 2"
   ]
  },
  {
   "cell_type": "code",
   "execution_count": 11,
   "metadata": {
    "collapsed": true
   },
   "outputs": [],
   "source": [
    "Fichero de bookings con columna \n",
    "arr_port --> Aeropuerto\n",
    "pax --> Pasajeros"
   ]
  },
  {
   "cell_type": "code",
   "execution_count": 31,
   "metadata": {
    "collapsed": false
   },
   "outputs": [],
   "source": [
    "df = pd.read_csv(path_to_zips + \"/bookings.csv.bz2\", delimiter='^',usecols=[\"arr_port\",\"pax\"])\n"
   ]
  },
  {
   "cell_type": "code",
   "execution_count": 21,
   "metadata": {
    "collapsed": false
   },
   "outputs": [
    {
     "data": {
      "text/html": [
       "<div>\n",
       "<table border=\"1\" class=\"dataframe\">\n",
       "  <thead>\n",
       "    <tr style=\"text-align: right;\">\n",
       "      <th></th>\n",
       "      <th>arr_port</th>\n",
       "      <th>pax</th>\n",
       "    </tr>\n",
       "  </thead>\n",
       "  <tbody>\n",
       "    <tr>\n",
       "      <th>15144</th>\n",
       "      <td>BCN</td>\n",
       "      <td>1</td>\n",
       "    </tr>\n",
       "    <tr>\n",
       "      <th>49376</th>\n",
       "      <td>LAX</td>\n",
       "      <td>3</td>\n",
       "    </tr>\n",
       "    <tr>\n",
       "      <th>34381</th>\n",
       "      <td>LIM</td>\n",
       "      <td>1</td>\n",
       "    </tr>\n",
       "    <tr>\n",
       "      <th>36815</th>\n",
       "      <td>AJA</td>\n",
       "      <td>4</td>\n",
       "    </tr>\n",
       "    <tr>\n",
       "      <th>39498</th>\n",
       "      <td>LBV</td>\n",
       "      <td>-1</td>\n",
       "    </tr>\n",
       "  </tbody>\n",
       "</table>\n",
       "</div>"
      ],
      "text/plain": [
       "       arr_port  pax\n",
       "15144  BCN         1\n",
       "49376  LAX         3\n",
       "34381  LIM         1\n",
       "36815  AJA         4\n",
       "39498  LBV        -1"
      ]
     },
     "execution_count": 21,
     "metadata": {},
     "output_type": "execute_result"
    }
   ],
   "source": [
    "df.sample(5)"
   ]
  },
  {
   "cell_type": "code",
   "execution_count": 32,
   "metadata": {
    "collapsed": false
   },
   "outputs": [],
   "source": [
    "df_sum = df.groupby(\"arr_port\").sum().sort(\"pax\")"
   ]
  },
  {
   "cell_type": "code",
   "execution_count": 37,
   "metadata": {
    "collapsed": true
   },
   "outputs": [],
   "source": [
    "df2 = df_sum.reset_index()"
   ]
  },
  {
   "cell_type": "code",
   "execution_count": 39,
   "metadata": {
    "collapsed": false
   },
   "outputs": [
    {
     "data": {
      "text/html": [
       "<div>\n",
       "<table border=\"1\" class=\"dataframe\">\n",
       "  <thead>\n",
       "    <tr style=\"text-align: right;\">\n",
       "      <th></th>\n",
       "      <th>arr_port</th>\n",
       "      <th>pax</th>\n",
       "    </tr>\n",
       "  </thead>\n",
       "  <tbody>\n",
       "    <tr>\n",
       "      <th>2273</th>\n",
       "      <td>LHR</td>\n",
       "      <td>88809</td>\n",
       "    </tr>\n",
       "    <tr>\n",
       "      <th>2272</th>\n",
       "      <td>MCO</td>\n",
       "      <td>70930</td>\n",
       "    </tr>\n",
       "    <tr>\n",
       "      <th>2271</th>\n",
       "      <td>LAX</td>\n",
       "      <td>70530</td>\n",
       "    </tr>\n",
       "    <tr>\n",
       "      <th>2270</th>\n",
       "      <td>LAS</td>\n",
       "      <td>69630</td>\n",
       "    </tr>\n",
       "    <tr>\n",
       "      <th>2269</th>\n",
       "      <td>JFK</td>\n",
       "      <td>66270</td>\n",
       "    </tr>\n",
       "    <tr>\n",
       "      <th>2268</th>\n",
       "      <td>CDG</td>\n",
       "      <td>64490</td>\n",
       "    </tr>\n",
       "    <tr>\n",
       "      <th>2267</th>\n",
       "      <td>BKK</td>\n",
       "      <td>59460</td>\n",
       "    </tr>\n",
       "    <tr>\n",
       "      <th>2266</th>\n",
       "      <td>MIA</td>\n",
       "      <td>58150</td>\n",
       "    </tr>\n",
       "    <tr>\n",
       "      <th>2265</th>\n",
       "      <td>SFO</td>\n",
       "      <td>58000</td>\n",
       "    </tr>\n",
       "    <tr>\n",
       "      <th>2264</th>\n",
       "      <td>DXB</td>\n",
       "      <td>55590</td>\n",
       "    </tr>\n",
       "  </tbody>\n",
       "</table>\n",
       "</div>"
      ],
      "text/plain": [
       "      arr_port    pax\n",
       "2273  LHR       88809\n",
       "2272  MCO       70930\n",
       "2271  LAX       70530\n",
       "2270  LAS       69630\n",
       "2269  JFK       66270\n",
       "2268  CDG       64490\n",
       "2267  BKK       59460\n",
       "2266  MIA       58150\n",
       "2265  SFO       58000\n",
       "2264  DXB       55590"
      ]
     },
     "execution_count": 39,
     "metadata": {},
     "output_type": "execute_result"
    }
   ],
   "source": [
    "df2.sort('pax',ascending=False).head(10)"
   ]
  },
  {
   "cell_type": "code",
   "execution_count": null,
   "metadata": {
    "collapsed": true
   },
   "outputs": [],
   "source": [
    "# No cabe en memoria, hacerlo por chunks"
   ]
  },
  {
   "cell_type": "code",
   "execution_count": 71,
   "metadata": {
    "collapsed": true
   },
   "outputs": [],
   "source": [
    "# Objeto para iterar y cada iteración devuelve un dataframe\n",
    "df = pd.read_csv(path_to_zips + \"/bookings.csv.bz2\", delimiter='^',usecols=[\"arr_port\",\"pax\"],chunksize=100000)"
   ]
  },
  {
   "cell_type": "code",
   "execution_count": 67,
   "metadata": {
    "collapsed": false
   },
   "outputs": [],
   "source": [
    "# Primera solucion: Concatenación de los top 10\n",
    "l = []\n",
    "for chunk in df:\n",
    "    l.append(chunk.fillna(0).groupby('arr_port').sum().reset_index().sort('pax',ascending=False).head(10))\n",
    "\n",
    "total = pd.concat(l)\n",
    "total_2 = total.groupby('arr_port').sum().reset_index()\n",
    "total_2.sort('pax',ascending=False).head(10)"
   ]
  },
  {
   "cell_type": "code",
   "execution_count": null,
   "metadata": {
    "collapsed": true
   },
   "outputs": [],
   "source": [
    "# Segunda solucion: Concatenación de los agrupados\n",
    "l = []\n",
    "for chunk in df:\n",
    "    l.append(chunk.fillna(0).groupby('arr_port').sum().reset_index()\n",
    "\n",
    "total = pd.concat(l)\n",
    "total_2 = total.groupby('arr_port').sum().reset_index()\n",
    "total_2.sort('pax',ascending=False).head(10)"
   ]
  },
  {
   "cell_type": "code",
   "execution_count": 72,
   "metadata": {
    "collapsed": false,
    "scrolled": false
   },
   "outputs": [
    {
     "data": {
      "text/html": [
       "<div>\n",
       "<table border=\"1\" class=\"dataframe\">\n",
       "  <thead>\n",
       "    <tr style=\"text-align: right;\">\n",
       "      <th></th>\n",
       "      <th>arr_port</th>\n",
       "      <th>pax</th>\n",
       "    </tr>\n",
       "  </thead>\n",
       "  <tbody>\n",
       "    <tr>\n",
       "      <th>1088</th>\n",
       "      <td>LHR</td>\n",
       "      <td>88809</td>\n",
       "    </tr>\n",
       "    <tr>\n",
       "      <th>1190</th>\n",
       "      <td>MCO</td>\n",
       "      <td>70930</td>\n",
       "    </tr>\n",
       "    <tr>\n",
       "      <th>1050</th>\n",
       "      <td>LAX</td>\n",
       "      <td>70530</td>\n",
       "    </tr>\n",
       "    <tr>\n",
       "      <th>1047</th>\n",
       "      <td>LAS</td>\n",
       "      <td>69630</td>\n",
       "    </tr>\n",
       "    <tr>\n",
       "      <th>886</th>\n",
       "      <td>JFK</td>\n",
       "      <td>66270</td>\n",
       "    </tr>\n",
       "    <tr>\n",
       "      <th>315</th>\n",
       "      <td>CDG</td>\n",
       "      <td>64490</td>\n",
       "    </tr>\n",
       "    <tr>\n",
       "      <th>216</th>\n",
       "      <td>BKK</td>\n",
       "      <td>59460</td>\n",
       "    </tr>\n",
       "    <tr>\n",
       "      <th>1228</th>\n",
       "      <td>MIA</td>\n",
       "      <td>58150</td>\n",
       "    </tr>\n",
       "    <tr>\n",
       "      <th>1719</th>\n",
       "      <td>SFO</td>\n",
       "      <td>58000</td>\n",
       "    </tr>\n",
       "    <tr>\n",
       "      <th>517</th>\n",
       "      <td>DXB</td>\n",
       "      <td>55590</td>\n",
       "    </tr>\n",
       "  </tbody>\n",
       "</table>\n",
       "</div>"
      ],
      "text/plain": [
       "      arr_port    pax\n",
       "1088  LHR       88809\n",
       "1190  MCO       70930\n",
       "1050  LAX       70530\n",
       "1047  LAS       69630\n",
       "886   JFK       66270\n",
       "315   CDG       64490\n",
       "216   BKK       59460\n",
       "1228  MIA       58150\n",
       "1719  SFO       58000\n",
       "517   DXB       55590"
      ]
     },
     "execution_count": 72,
     "metadata": {},
     "output_type": "execute_result"
    }
   ],
   "source": [
    "# Tercera solucion: Concatenación de los agrupados, pero con tamaño constante\n",
    "primera_iteracion = True\n",
    "\n",
    "for chunk in df:\n",
    "    s = chunk.fillna(0).groupby('arr_port').sum().reset_index()\n",
    "    \n",
    "    if primera_iteracion == True:\n",
    "        total = s\n",
    "        primera_iteracion = False\n",
    "    else:\n",
    "        total = pd.concat([total,s])\n",
    "        \n",
    "    total = total.groupby('arr_port').sum().reset_index()\n",
    "\n",
    "total_2 = total.groupby('arr_port').sum().reset_index()\n",
    "total_2.sort('pax',ascending=False).head(10)"
   ]
  },
  {
   "cell_type": "code",
   "execution_count": 110,
   "metadata": {
    "collapsed": false
   },
   "outputs": [],
   "source": [
    "top = total_2.sort('pax',ascending=False).head(10)"
   ]
  },
  {
   "cell_type": "code",
   "execution_count": null,
   "metadata": {
    "collapsed": true
   },
   "outputs": [],
   "source": []
  },
  {
   "cell_type": "code",
   "execution_count": 40,
   "metadata": {
    "collapsed": true
   },
   "outputs": [],
   "source": [
    "## Ejercicio 3: Uso de Geobase"
   ]
  },
  {
   "cell_type": "code",
   "execution_count": null,
   "metadata": {
    "collapsed": true
   },
   "outputs": [],
   "source": [
    "# Instalación de geobase: sudo pip install geobases\n",
    "# En línea de comandos geobase + aeropuerto y se obtiene información del aeropuerto"
   ]
  },
  {
   "cell_type": "code",
   "execution_count": 74,
   "metadata": {
    "collapsed": false
   },
   "outputs": [
    {
     "name": "stdout",
     "output_type": "stream",
     "text": [
      "Loading \"ori_por\"...\n",
      "Looking for matches from MAD...\n",
      "Keeping 1 result(s) from 1 initially...\n",
      "\n",
      "\u001b[1m\u001b[31m__ref__                                 \u001b[0m\u001b[31m0                                       \u001b[0m\n",
      "\u001b[1m\u001b[44m\u001b[37m__key__                                 \u001b[0m\u001b[44m\u001b[37mMAD                                     \u001b[0m\n",
      "\u001b[1m\u001b[35m__dup__                                 \u001b[0m\u001b[35m['MAD@1']                               \u001b[0m\n",
      "\u001b[1m\u001b[35m__par__                                 \u001b[0m\u001b[35m[]                                      \u001b[0m\n",
      "\u001b[1m\u001b[35m__lno__                                 \u001b[0m\u001b[35m7379                                    \u001b[0m\n",
      "\u001b[1m\u001b[40m\u001b[37miata_code                               \u001b[0m\u001b[40m\u001b[37mMAD                                     \u001b[0m\n",
      "\u001b[1m\u001b[36micao_code                               \u001b[0m\u001b[36mLEMD                                    \u001b[0m\n",
      "\u001b[1m\u001b[40m\u001b[37mfaa_code                                \u001b[0m\u001b[40m\u001b[37m                                        \u001b[0m\n",
      "\u001b[1m\u001b[36mis_geonames                             \u001b[0m\u001b[36mY                                       \u001b[0m\n",
      "\u001b[1m\u001b[40m\u001b[37mgeoname_id                              \u001b[0m\u001b[40m\u001b[37m6299345                                 \u001b[0m\n",
      "\u001b[1m\u001b[36mvalid_id                                \u001b[0m\u001b[36m                                        \u001b[0m\n",
      "\u001b[1m\u001b[40m\u001b[37mname                                    \u001b[0m\u001b[40m\u001b[37mMadrid / Barajas                        \u001b[0m\n",
      "\u001b[1m\u001b[36masciiname                               \u001b[0m\u001b[36mMadrid / Barajas                        \u001b[0m\n",
      "\u001b[1m\u001b[40m\u001b[37mlat                                     \u001b[0m\u001b[40m\u001b[37m40.493556                               \u001b[0m\n",
      "\u001b[1m\u001b[36mlng                                     \u001b[0m\u001b[36m-3.566764                               \u001b[0m\n",
      "\u001b[1m\u001b[40m\u001b[32mfclass                                  \u001b[0m\u001b[40m\u001b[32mS                                       \u001b[0m\n",
      "\u001b[1m\u001b[32mfcode                                   \u001b[0m\u001b[32mAIRP                                    \u001b[0m\n",
      "\u001b[1m\u001b[40m\u001b[37mpage_rank                               \u001b[0m\u001b[40m\u001b[37m0.392784873731                          \u001b[0m\n",
      "\u001b[1m\u001b[36mdate_from                               \u001b[0m\u001b[36m                                        \u001b[0m\n",
      "\u001b[1m\u001b[40m\u001b[37mdate_until                              \u001b[0m\u001b[40m\u001b[37m                                        \u001b[0m\n",
      "\u001b[1m\u001b[36mcomment                                 \u001b[0m\u001b[36m                                        \u001b[0m\n",
      "\u001b[1m\u001b[40m\u001b[32mcountry_code                            \u001b[0m\u001b[40m\u001b[32mES                                      \u001b[0m\n",
      "\u001b[1m\u001b[36mcc2                                     \u001b[0m\u001b[36m                                        \u001b[0m\n",
      "\u001b[1m\u001b[40m\u001b[37mcountry_name                            \u001b[0m\u001b[40m\u001b[37mSpain                                   \u001b[0m\n",
      "\u001b[1m\u001b[32mcontinent_name                          \u001b[0m\u001b[32mEurope                                  \u001b[0m\n",
      "\u001b[1m\u001b[40m\u001b[37madm1_code                               \u001b[0m\u001b[40m\u001b[37m29                                      \u001b[0m\n",
      "\u001b[1m\u001b[36madm1_name_utf                           \u001b[0m\u001b[36mMadrid                                  \u001b[0m\n",
      "\u001b[1m\u001b[40m\u001b[37madm1_name_ascii                         \u001b[0m\u001b[40m\u001b[37mMadrid                                  \u001b[0m\n",
      "\u001b[1m\u001b[36madm2_code                               \u001b[0m\u001b[36mM                                       \u001b[0m\n",
      "\u001b[1m\u001b[40m\u001b[37madm2_name_utf                           \u001b[0m\u001b[40m\u001b[37mProvincia de Madrid                     \u001b[0m\n",
      "\u001b[1m\u001b[36madm2_name_ascii                         \u001b[0m\u001b[36mProvincia de Madrid                     \u001b[0m\n",
      "\u001b[1m\u001b[40m\u001b[37madm3_code                               \u001b[0m\u001b[40m\u001b[37m28079                                   \u001b[0m\n",
      "\u001b[1m\u001b[36madm4_code                               \u001b[0m\u001b[36m                                        \u001b[0m\n",
      "\u001b[1m\u001b[40m\u001b[37mpopulation                              \u001b[0m\u001b[40m\u001b[37m0                                       \u001b[0m\n",
      "\u001b[1m\u001b[36melevation                               \u001b[0m\u001b[36m609                                     \u001b[0m\n",
      "\u001b[1m\u001b[40m\u001b[37mgtopo30                                 \u001b[0m\u001b[40m\u001b[37m575                                     \u001b[0m\n",
      "\u001b[1m\u001b[32mtimezone                                \u001b[0m\u001b[32mEurope/Madrid                           \u001b[0m\n",
      "\u001b[1m\u001b[40m\u001b[37mgmt_offset                              \u001b[0m\u001b[40m\u001b[37m1.0                                     \u001b[0m\n",
      "\u001b[1m\u001b[36mdst_offset                              \u001b[0m\u001b[36m2.0                                     \u001b[0m\n",
      "\u001b[1m\u001b[40m\u001b[37mraw_offset                              \u001b[0m\u001b[40m\u001b[37m1.0                                     \u001b[0m\n",
      "\u001b[1m\u001b[36mmoddate                                 \u001b[0m\u001b[36m2012-03-04                              \u001b[0m\n",
      "\u001b[1m\u001b[40m\u001b[32mcity_code                               \u001b[0m\u001b[40m\u001b[32mMAD                                     \u001b[0m\n",
      "\u001b[1m\u001b[36mcity_name_utf                           \u001b[0m\u001b[36mMadrid                                  \u001b[0m\n",
      "\u001b[1m\u001b[40m\u001b[37mcity_name_ascii                         \u001b[0m\u001b[40m\u001b[37mMadrid                                  \u001b[0m\n",
      "\u001b[1m\u001b[33mtvl_por_list@raw                        \u001b[0m\u001b[33m                                        \u001b[0m\n",
      "\u001b[1m\u001b[40m\u001b[32mtvl_por_list                            \u001b[0m\u001b[40m\u001b[32m()                                      \u001b[0m\n",
      "\u001b[1m\u001b[36mstate_code                              \u001b[0m\u001b[36m                                        \u001b[0m\n",
      "\u001b[1m\u001b[40m\u001b[33mlocation_type@raw                       \u001b[0m\u001b[40m\u001b[33mA                                       \u001b[0m\n",
      "\u001b[1m\u001b[32mlocation_type                           \u001b[0m\u001b[32m('A',)                                  \u001b[0m\n",
      "\u001b[1m\u001b[40m\u001b[37mwiki_link                               \u001b[0m\u001b[40m\u001b[37mhttp://en.wikipedia.org/wiki/Madrid-Barajas_Airport\u001b[0m\n",
      "\u001b[1m\u001b[33malt_name_section@raw                    \u001b[0m\u001b[33mes|Aeropuerto de Madrid|=es|Barajas|=de|Flughafen Madrid|p\u001b[0m\n",
      "\u001b[1m\u001b[40m\u001b[37malt_name_section                        \u001b[0m\u001b[40m\u001b[37m(('es', 'Aeropuerto de Madrid', ''), ('es', 'Barajas', ''), ('de', 'Flughafen Madrid', 'p'))\u001b[0m\n",
      "\u001b[1m\u001b[35m__gar__                                 \u001b[0m\u001b[35m[]                                      \u001b[0m\n",
      "\u001b[0m"
     ]
    }
   ],
   "source": [
    "!GeoBase MAD"
   ]
  },
  {
   "cell_type": "code",
   "execution_count": 75,
   "metadata": {
    "collapsed": true
   },
   "outputs": [],
   "source": [
    "from GeoBases import GeoBase"
   ]
  },
  {
   "cell_type": "code",
   "execution_count": 76,
   "metadata": {
    "collapsed": true
   },
   "outputs": [],
   "source": [
    "g = GeoBase(data='ori_por',verbose=False)"
   ]
  },
  {
   "cell_type": "code",
   "execution_count": 119,
   "metadata": {
    "collapsed": false
   },
   "outputs": [
    {
     "data": {
      "text/plain": [
       "'Madrid / Barajas'"
      ]
     },
     "execution_count": 119,
     "metadata": {},
     "output_type": "execute_result"
    }
   ],
   "source": [
    "g.get('MAD')['city_name_ascii']\n",
    "g.get('MAD')['name']"
   ]
  },
  {
   "cell_type": "code",
   "execution_count": 113,
   "metadata": {
    "collapsed": true
   },
   "outputs": [],
   "source": [
    "def nombre_aeropuerto(codigo):\n",
    "    return g.get(codigo.strip())['name']"
   ]
  },
  {
   "cell_type": "code",
   "execution_count": 115,
   "metadata": {
    "collapsed": false
   },
   "outputs": [
    {
     "data": {
      "text/html": [
       "<div>\n",
       "<table border=\"1\" class=\"dataframe\">\n",
       "  <thead>\n",
       "    <tr style=\"text-align: right;\">\n",
       "      <th></th>\n",
       "      <th>arr_port</th>\n",
       "      <th>pax</th>\n",
       "      <th>arr_port_good</th>\n",
       "      <th>names</th>\n",
       "      <th>cities</th>\n",
       "      <th>countries</th>\n",
       "      <th>names_map</th>\n",
       "    </tr>\n",
       "  </thead>\n",
       "  <tbody>\n",
       "    <tr>\n",
       "      <th>1088</th>\n",
       "      <td>LHR</td>\n",
       "      <td>88809</td>\n",
       "      <td>NaN</td>\n",
       "      <td>London Heathrow Airport</td>\n",
       "      <td>London</td>\n",
       "      <td>United Kingdom</td>\n",
       "      <td>London Heathrow Airport</td>\n",
       "    </tr>\n",
       "    <tr>\n",
       "      <th>1190</th>\n",
       "      <td>MCO</td>\n",
       "      <td>70930</td>\n",
       "      <td>NaN</td>\n",
       "      <td>Orlando International Airport</td>\n",
       "      <td>Orlando</td>\n",
       "      <td>United States</td>\n",
       "      <td>Orlando International Airport</td>\n",
       "    </tr>\n",
       "    <tr>\n",
       "      <th>1050</th>\n",
       "      <td>LAX</td>\n",
       "      <td>70530</td>\n",
       "      <td>NaN</td>\n",
       "      <td>Los Angeles International Airport</td>\n",
       "      <td>Los Angeles</td>\n",
       "      <td>United States</td>\n",
       "      <td>Los Angeles International Airport</td>\n",
       "    </tr>\n",
       "    <tr>\n",
       "      <th>1047</th>\n",
       "      <td>LAS</td>\n",
       "      <td>69630</td>\n",
       "      <td>NaN</td>\n",
       "      <td>Mc Carran International Airport</td>\n",
       "      <td>Las Vegas</td>\n",
       "      <td>United States</td>\n",
       "      <td>Mc Carran International Airport</td>\n",
       "    </tr>\n",
       "    <tr>\n",
       "      <th>886</th>\n",
       "      <td>JFK</td>\n",
       "      <td>66270</td>\n",
       "      <td>NaN</td>\n",
       "      <td>John F Kennedy International Airport</td>\n",
       "      <td>New York City</td>\n",
       "      <td>United States</td>\n",
       "      <td>John F Kennedy International Airport</td>\n",
       "    </tr>\n",
       "    <tr>\n",
       "      <th>315</th>\n",
       "      <td>CDG</td>\n",
       "      <td>64490</td>\n",
       "      <td>NaN</td>\n",
       "      <td>Paris - Charles-de-Gaulle</td>\n",
       "      <td>Paris</td>\n",
       "      <td>France</td>\n",
       "      <td>Paris - Charles-de-Gaulle</td>\n",
       "    </tr>\n",
       "    <tr>\n",
       "      <th>216</th>\n",
       "      <td>BKK</td>\n",
       "      <td>59460</td>\n",
       "      <td>NaN</td>\n",
       "      <td>Suvarnabhumi</td>\n",
       "      <td>Bangkok</td>\n",
       "      <td>Thailand</td>\n",
       "      <td>Suvarnabhumi</td>\n",
       "    </tr>\n",
       "    <tr>\n",
       "      <th>1228</th>\n",
       "      <td>MIA</td>\n",
       "      <td>58150</td>\n",
       "      <td>NaN</td>\n",
       "      <td>Miami International Airport</td>\n",
       "      <td>Miami</td>\n",
       "      <td>United States</td>\n",
       "      <td>Miami International Airport</td>\n",
       "    </tr>\n",
       "    <tr>\n",
       "      <th>1719</th>\n",
       "      <td>SFO</td>\n",
       "      <td>58000</td>\n",
       "      <td>NaN</td>\n",
       "      <td>San Francisco International Airport</td>\n",
       "      <td>San Francisco</td>\n",
       "      <td>United States</td>\n",
       "      <td>San Francisco International Airport</td>\n",
       "    </tr>\n",
       "    <tr>\n",
       "      <th>517</th>\n",
       "      <td>DXB</td>\n",
       "      <td>55590</td>\n",
       "      <td>NaN</td>\n",
       "      <td>Dubai International Airport</td>\n",
       "      <td>Dubai</td>\n",
       "      <td>United Arab Emirates</td>\n",
       "      <td>Dubai International Airport</td>\n",
       "    </tr>\n",
       "  </tbody>\n",
       "</table>\n",
       "</div>"
      ],
      "text/plain": [
       "      arr_port    pax arr_port_good                                 names  \\\n",
       "1088  LHR       88809           NaN               London Heathrow Airport   \n",
       "1190  MCO       70930           NaN         Orlando International Airport   \n",
       "1050  LAX       70530           NaN     Los Angeles International Airport   \n",
       "1047  LAS       69630           NaN       Mc Carran International Airport   \n",
       "886   JFK       66270           NaN  John F Kennedy International Airport   \n",
       "315   CDG       64490           NaN             Paris - Charles-de-Gaulle   \n",
       "216   BKK       59460           NaN                          Suvarnabhumi   \n",
       "1228  MIA       58150           NaN           Miami International Airport   \n",
       "1719  SFO       58000           NaN   San Francisco International Airport   \n",
       "517   DXB       55590           NaN           Dubai International Airport   \n",
       "\n",
       "             cities             countries  \\\n",
       "1088         London        United Kingdom   \n",
       "1190        Orlando         United States   \n",
       "1050    Los Angeles         United States   \n",
       "1047      Las Vegas         United States   \n",
       "886   New York City         United States   \n",
       "315           Paris                France   \n",
       "216         Bangkok              Thailand   \n",
       "1228          Miami         United States   \n",
       "1719  San Francisco         United States   \n",
       "517           Dubai  United Arab Emirates   \n",
       "\n",
       "                                 names_map  \n",
       "1088               London Heathrow Airport  \n",
       "1190         Orlando International Airport  \n",
       "1050     Los Angeles International Airport  \n",
       "1047       Mc Carran International Airport  \n",
       "886   John F Kennedy International Airport  \n",
       "315              Paris - Charles-de-Gaulle  \n",
       "216                           Suvarnabhumi  \n",
       "1228           Miami International Airport  \n",
       "1719   San Francisco International Airport  \n",
       "517            Dubai International Airport  "
      ]
     },
     "execution_count": 115,
     "metadata": {},
     "output_type": "execute_result"
    }
   ],
   "source": [
    "top['names_map'] = top['arr_port'].map(nombre_aeropuerto)\n",
    "top"
   ]
  },
  {
   "cell_type": "code",
   "execution_count": 112,
   "metadata": {
    "collapsed": false
   },
   "outputs": [],
   "source": [
    "cities = top.arr_port.apply(lambda a: g.get(a.strip())['city_name_ascii'])\n",
    "countries = top.arr_port.map(lambda a: g.get(a.strip())['country_name'])\n",
    "\n",
    "top['cities'] = cities\n",
    "top['countries'] = countries"
   ]
  },
  {
   "cell_type": "code",
   "execution_count": 3,
   "metadata": {
    "collapsed": true
   },
   "outputs": [],
   "source": [
    "## Tercer ejercicio"
   ]
  },
  {
   "cell_type": "code",
   "execution_count": 4,
   "metadata": {
    "collapsed": false
   },
   "outputs": [
    {
     "name": "stdout",
     "output_type": "stream",
     "text": [
      "Populating the interactive namespace from numpy and matplotlib\n"
     ]
    }
   ],
   "source": [
    "# Incrustar las salidas al notebook\n",
    "%pylab inline"
   ]
  },
  {
   "cell_type": "code",
   "execution_count": 9,
   "metadata": {
    "collapsed": false
   },
   "outputs": [
    {
     "name": "stdout",
     "output_type": "stream",
     "text": [
      "bookings.csv  bookings.csv.bz2\tsearches.csv.bz2  sql\r\n"
     ]
    }
   ],
   "source": [
    "! ls {path_to_zips}"
   ]
  },
  {
   "cell_type": "code",
   "execution_count": 18,
   "metadata": {
    "collapsed": false
   },
   "outputs": [],
   "source": [
    "# Visualización del formato del archivo\n",
    "df = pd.read_csv(path_to_zips + \"/searches.csv.bz2\", delimiter='^',nrows=100)"
   ]
  },
  {
   "cell_type": "code",
   "execution_count": 19,
   "metadata": {
    "collapsed": false
   },
   "outputs": [
    {
     "data": {
      "text/plain": [
       "Index([u'Date', u'Time', u'TxnCode', u'OfficeID', u'Country', u'Origin',\n",
       "       u'Destination', u'RoundTrip', u'NbSegments', u'Seg1Departure',\n",
       "       u'Seg1Arrival', u'Seg1Date', u'Seg1Carrier', u'Seg1BookingCode',\n",
       "       u'Seg2Departure', u'Seg2Arrival', u'Seg2Date', u'Seg2Carrier',\n",
       "       u'Seg2BookingCode', u'Seg3Departure', u'Seg3Arrival', u'Seg3Date',\n",
       "       u'Seg3Carrier', u'Seg3BookingCode', u'Seg4Departure', u'Seg4Arrival',\n",
       "       u'Seg4Date', u'Seg4Carrier', u'Seg4BookingCode', u'Seg5Departure',\n",
       "       u'Seg5Arrival', u'Seg5Date', u'Seg5Carrier', u'Seg5BookingCode',\n",
       "       u'Seg6Departure', u'Seg6Arrival', u'Seg6Date', u'Seg6Carrier',\n",
       "       u'Seg6BookingCode', u'From', u'IsPublishedForNeg', u'IsFromInternet',\n",
       "       u'IsFromVista', u'TerminalID', u'InternetOffice'],\n",
       "      dtype='object')"
      ]
     },
     "execution_count": 19,
     "metadata": {},
     "output_type": "execute_result"
    }
   ],
   "source": [
    "df.columns"
   ]
  },
  {
   "cell_type": "code",
   "execution_count": 111,
   "metadata": {
    "collapsed": false
   },
   "outputs": [],
   "source": [
    "# Leemos el archivo con las columnas adecuadas: arr_city y act_date\n",
    "df = pd.read_csv(path_to_zips + \"/searches.csv.bz2\", delimiter='^',  nrows=1e6, parse_dates=['Date'], usecols=['Destination','Date'])"
   ]
  },
  {
   "cell_type": "code",
   "execution_count": 112,
   "metadata": {
    "collapsed": false
   },
   "outputs": [
    {
     "data": {
      "text/plain": [
       "pandas.tslib.Timestamp"
      ]
     },
     "execution_count": 112,
     "metadata": {},
     "output_type": "execute_result"
    }
   ],
   "source": [
    "type(df.Date[0])"
   ]
  },
  {
   "cell_type": "code",
   "execution_count": 113,
   "metadata": {
    "collapsed": false
   },
   "outputs": [],
   "source": [
    "def getmonth(date):\n",
    "    return date.month"
   ]
  },
  {
   "cell_type": "code",
   "execution_count": 114,
   "metadata": {
    "collapsed": false
   },
   "outputs": [],
   "source": [
    "df['Month'] = df['Date'].dropna().map(getmonth)"
   ]
  },
  {
   "cell_type": "code",
   "execution_count": 115,
   "metadata": {
    "collapsed": false
   },
   "outputs": [],
   "source": [
    "# Filtro por Madrid, Malaga y Barcelona: MAD, AGP, BCN\n",
    "filtro1 = df['Destination'] == \"MAD\"\n",
    "filtro2 = df['Destination'] == \"AGP\"\n",
    "filtro3 = df['Destination'] == \"BCN\"\n",
    "# df.Destination.isin([\"MAD\",\"AGP\",\"BCN\"])"
   ]
  },
  {
   "cell_type": "code",
   "execution_count": 116,
   "metadata": {
    "collapsed": false
   },
   "outputs": [],
   "source": [
    "filtro_total = (filtro1 | filtro2 | filtro3)\n",
    "df_filtro = df[filtro_total]"
   ]
  },
  {
   "cell_type": "code",
   "execution_count": 127,
   "metadata": {
    "collapsed": true
   },
   "outputs": [],
   "source": [
    "df_group = df_filtro.groupby(['Destination','Month']).count().reset_index()"
   ]
  },
  {
   "cell_type": "code",
   "execution_count": 128,
   "metadata": {
    "collapsed": false
   },
   "outputs": [
    {
     "data": {
      "text/html": [
       "<div>\n",
       "<table border=\"1\" class=\"dataframe\">\n",
       "  <thead>\n",
       "    <tr style=\"text-align: right;\">\n",
       "      <th></th>\n",
       "      <th>Destination</th>\n",
       "      <th>Month</th>\n",
       "      <th>Date</th>\n",
       "    </tr>\n",
       "  </thead>\n",
       "  <tbody>\n",
       "    <tr>\n",
       "      <th>7</th>\n",
       "      <td>AGP</td>\n",
       "      <td>8</td>\n",
       "      <td>414</td>\n",
       "    </tr>\n",
       "    <tr>\n",
       "      <th>19</th>\n",
       "      <td>BCN</td>\n",
       "      <td>8</td>\n",
       "      <td>1425</td>\n",
       "    </tr>\n",
       "    <tr>\n",
       "      <th>15</th>\n",
       "      <td>BCN</td>\n",
       "      <td>4</td>\n",
       "      <td>1644</td>\n",
       "    </tr>\n",
       "    <tr>\n",
       "      <th>27</th>\n",
       "      <td>MAD</td>\n",
       "      <td>4</td>\n",
       "      <td>1329</td>\n",
       "    </tr>\n",
       "    <tr>\n",
       "      <th>17</th>\n",
       "      <td>BCN</td>\n",
       "      <td>6</td>\n",
       "      <td>1395</td>\n",
       "    </tr>\n",
       "  </tbody>\n",
       "</table>\n",
       "</div>"
      ],
      "text/plain": [
       "   Destination  Month  Date\n",
       "7          AGP      8   414\n",
       "19         BCN      8  1425\n",
       "15         BCN      4  1644\n",
       "27         MAD      4  1329\n",
       "17         BCN      6  1395"
      ]
     },
     "execution_count": 128,
     "metadata": {},
     "output_type": "execute_result"
    }
   ],
   "source": [
    "df_group.sample(5)"
   ]
  },
  {
   "cell_type": "code",
   "execution_count": 99,
   "metadata": {
    "collapsed": true
   },
   "outputs": [],
   "source": [
    "# Graficar\n",
    "import matplotlib\n",
    "import matplotlib.pyplot as plt\n",
    "%matplotlib inline"
   ]
  },
  {
   "cell_type": "code",
   "execution_count": 104,
   "metadata": {
    "collapsed": false
   },
   "outputs": [
    {
     "data": {
      "text/plain": [
       "<Container object of 12 artists>"
      ]
     },
     "execution_count": 104,
     "metadata": {},
     "output_type": "execute_result"
    },
    {
     "data": {
      "image/png": "[encoded data removed]",
      "text/plain": [
       "<matplotlib.figure.Figure at 0x7f9855aa2e50>"
      ]
     },
     "metadata": {},
     "output_type": "display_data"
    }
   ],
   "source": [
    "plt.bar(range(1,13),df_group['Date'])"
   ]
  },
  {
   "cell_type": "code",
   "execution_count": 129,
   "metadata": {
    "collapsed": false
   },
   "outputs": [],
   "source": [
    "df2 = pd.pivot_table(df_group,index=['Month'],columns=['Destination'],aggfunc=np.sum)"
   ]
  },
  {
   "cell_type": "code",
   "execution_count": 130,
   "metadata": {
    "collapsed": false
   },
   "outputs": [
    {
     "data": {
      "text/html": [
       "<div>\n",
       "<table border=\"1\" class=\"dataframe\">\n",
       "  <thead>\n",
       "    <tr>\n",
       "      <th></th>\n",
       "      <th colspan=\"3\" halign=\"left\">Date</th>\n",
       "    </tr>\n",
       "    <tr>\n",
       "      <th>Destination</th>\n",
       "      <th>AGP</th>\n",
       "      <th>BCN</th>\n",
       "      <th>MAD</th>\n",
       "    </tr>\n",
       "    <tr>\n",
       "      <th>Month</th>\n",
       "      <th></th>\n",
       "      <th></th>\n",
       "      <th></th>\n",
       "    </tr>\n",
       "  </thead>\n",
       "  <tbody>\n",
       "    <tr>\n",
       "      <th>9</th>\n",
       "      <td>429</td>\n",
       "      <td>1233</td>\n",
       "      <td>1113</td>\n",
       "    </tr>\n",
       "    <tr>\n",
       "      <th>1</th>\n",
       "      <td>507</td>\n",
       "      <td>1551</td>\n",
       "      <td>1275</td>\n",
       "    </tr>\n",
       "    <tr>\n",
       "      <th>6</th>\n",
       "      <td>417</td>\n",
       "      <td>1395</td>\n",
       "      <td>1200</td>\n",
       "    </tr>\n",
       "    <tr>\n",
       "      <th>5</th>\n",
       "      <td>570</td>\n",
       "      <td>1512</td>\n",
       "      <td>1386</td>\n",
       "    </tr>\n",
       "    <tr>\n",
       "      <th>12</th>\n",
       "      <td>132</td>\n",
       "      <td>550</td>\n",
       "      <td>518</td>\n",
       "    </tr>\n",
       "  </tbody>\n",
       "</table>\n",
       "</div>"
      ],
      "text/plain": [
       "            Date            \n",
       "Destination  AGP   BCN   MAD\n",
       "Month                       \n",
       "9            429  1233  1113\n",
       "1            507  1551  1275\n",
       "6            417  1395  1200\n",
       "5            570  1512  1386\n",
       "12           132   550   518"
      ]
     },
     "execution_count": 130,
     "metadata": {},
     "output_type": "execute_result"
    }
   ],
   "source": [
    "df2.sample(5)"
   ]
  },
  {
   "cell_type": "code",
   "execution_count": 138,
   "metadata": {
    "collapsed": false
   },
   "outputs": [
    {
     "data": {
      "text/plain": [
       "<Container object of 12 artists>"
      ]
     },
     "execution_count": 138,
     "metadata": {},
     "output_type": "execute_result"
    },
    {
     "data": {
      "image/png": "[encoded data removed]",
      "text/plain": [
       "<matplotlib.figure.Figure at 0x7f985433c8d0>"
      ]
     },
     "metadata": {},
     "output_type": "display_data"
    }
   ],
   "source": [
    "# Búsquedas en Málaga\n",
    "plt.bar(range(1,13),df2.Date.AGP)"
   ]
  },
  {
   "cell_type": "code",
   "execution_count": 139,
   "metadata": {
    "collapsed": false
   },
   "outputs": [
    {
     "data": {
      "text/plain": [
       "<Container object of 12 artists>"
      ]
     },
     "execution_count": 139,
     "metadata": {},
     "output_type": "execute_result"
    },
    {
     "data": {
      "image/png": "[encoded data removed]",
      "text/plain": [
       "<matplotlib.figure.Figure at 0x7f9854962090>"
      ]
     },
     "metadata": {},
     "output_type": "display_data"
    }
   ],
   "source": [
    "# Búsquedas en Madrid\n",
    "plt.bar(range(1,13),df2.Date.MAD)"
   ]
  },
  {
   "cell_type": "code",
   "execution_count": 140,
   "metadata": {
    "collapsed": false
   },
   "outputs": [
    {
     "data": {
      "text/plain": [
       "<Container object of 12 artists>"
      ]
     },
     "execution_count": 140,
     "metadata": {},
     "output_type": "execute_result"
    },
    {
     "data": {
      "image/png": "[encoded data removed]",
      "text/plain": [
       "<matplotlib.figure.Figure at 0x7f985404c390>"
      ]
     },
     "metadata": {},
     "output_type": "display_data"
    }
   ],
   "source": [
    "#Búsqueda en Barcelona\n",
    "plt.bar(range(1,13),df2.Date.BCN)"
   ]
  },
  {
   "cell_type": "code",
   "execution_count": 146,
   "metadata": {
    "collapsed": false
   },
   "outputs": [
    {
     "data": {
      "text/plain": [
       "<matplotlib.axes._subplots.AxesSubplot at 0x7f985300ee10>"
      ]
     },
     "execution_count": 146,
     "metadata": {},
     "output_type": "execute_result"
    },
    {
     "data": {
      "image/png": "[encoded data removed]",
      "text/plain": [
       "<matplotlib.figure.Figure at 0x7f9852ffa290>"
      ]
     },
     "metadata": {},
     "output_type": "display_data"
    }
   ],
   "source": [
    "# Otra opción con el método pivot\n",
    "p = df_group.pivot('Month','Destination','Date')\n",
    "p.plot(grid=True)"
   ]
  },
  {
   "cell_type": "code",
   "execution_count": 147,
   "metadata": {
    "collapsed": true
   },
   "outputs": [],
   "source": [
    "# Cuarto ejercicio\n",
    "# Analisis de las columnas disponibles en los archivos\n",
    "# Fichero de búsquedas\n",
    "df_search = pd.read_csv(path_to_zips+\"/searches.csv.bz2\",nrows=100, delimiter='^',parse_date=[\"Seg1Date\",\"Origin\",\"Destination\"])\n",
    "\n",
    "# Seg1Date es la fecha de búsqueda\n",
    "# Origin es el aeropuerto origen\n",
    "# Destination es el aeropuesto destino\n",
    "\n",
    "# Fichero de bookings\n",
    "df_book = pd.read_csv(path_to_zips+\"/bookings.csv.bz2\",nrows=100, delimiter='^',\n",
    "                      usecols=['brd_port','off_port','brd_time           '])\n",
    "\n",
    "# Date es la fecha de la búsqueda\n",
    "# brd_port es el aeropuerto origen\n",
    "# off_port es el earopuerto destino final"
   ]
  },
  {
   "cell_type": "code",
   "execution_count": 148,
   "metadata": {
    "collapsed": false
   },
   "outputs": [
    {
     "data": {
      "text/plain": [
       "Index([u'Date', u'Time', u'TxnCode', u'OfficeID', u'Country', u'Origin',\n",
       "       u'Destination', u'RoundTrip', u'NbSegments', u'Seg1Departure',\n",
       "       u'Seg1Arrival', u'Seg1Date', u'Seg1Carrier', u'Seg1BookingCode',\n",
       "       u'Seg2Departure', u'Seg2Arrival', u'Seg2Date', u'Seg2Carrier',\n",
       "       u'Seg2BookingCode', u'Seg3Departure', u'Seg3Arrival', u'Seg3Date',\n",
       "       u'Seg3Carrier', u'Seg3BookingCode', u'Seg4Departure', u'Seg4Arrival',\n",
       "       u'Seg4Date', u'Seg4Carrier', u'Seg4BookingCode', u'Seg5Departure',\n",
       "       u'Seg5Arrival', u'Seg5Date', u'Seg5Carrier', u'Seg5BookingCode',\n",
       "       u'Seg6Departure', u'Seg6Arrival', u'Seg6Date', u'Seg6Carrier',\n",
       "       u'Seg6BookingCode', u'From', u'IsPublishedForNeg', u'IsFromInternet',\n",
       "       u'IsFromVista', u'TerminalID', u'InternetOffice'],\n",
       "      dtype='object')"
      ]
     },
     "execution_count": 148,
     "metadata": {},
     "output_type": "execute_result"
    }
   ],
   "source": [
    "df_search.columns"
   ]
  },
  {
   "cell_type": "code",
   "execution_count": 150,
   "metadata": {
    "collapsed": false
   },
   "outputs": [
    {
     "data": {
      "text/plain": [
       "Index([u'act_date           ', u'source', u'pos_ctry', u'pos_iata',\n",
       "       u'pos_oid  ', u'rloc          ', u'cre_date           ', u'duration',\n",
       "       u'distance', u'dep_port', u'dep_city', u'dep_ctry', u'arr_port',\n",
       "       u'arr_city', u'arr_ctry', u'lst_port', u'lst_city', u'lst_ctry',\n",
       "       u'brd_port', u'brd_city', u'brd_ctry', u'off_port', u'off_city',\n",
       "       u'off_ctry', u'mkt_port', u'mkt_city', u'mkt_ctry', u'intl',\n",
       "       u'route          ', u'carrier', u'bkg_class', u'cab_class',\n",
       "       u'brd_time           ', u'off_time           ', u'pax', u'year',\n",
       "       u'month', u'oid      '],\n",
       "      dtype='object')"
      ]
     },
     "execution_count": 150,
     "metadata": {},
     "output_type": "execute_result"
    }
   ],
   "source": [
    "df_book.columns"
   ]
  },
  {
   "cell_type": "code",
   "execution_count": 193,
   "metadata": {
    "collapsed": false
   },
   "outputs": [],
   "source": [
    "# Fichero de búsquedas\n",
    "df_search = pd.read_csv(path_to_zips+\"/searches.csv.bz2\",nrows=1e6, delimiter='^',\n",
    "                        usecols=[\"Seg1Date\",\"Origin\",\"Destination\"], parse_dates=[\"Seg1Date\"])\n",
    "\n",
    "# Fichero de bookings\n",
    "df_book = pd.read_csv(path_to_zips+\"/bookings.csv.bz2\",nrows=1e6, delimiter='^',\n",
    "                      usecols=['brd_port','off_port','brd_time           '],\n",
    "                      parse_dates=['brd_time           '])\n"
   ]
  },
  {
   "cell_type": "code",
   "execution_count": 194,
   "metadata": {
    "collapsed": false,
    "scrolled": false
   },
   "outputs": [
    {
     "data": {
      "text/html": [
       "<div>\n",
       "<table border=\"1\" class=\"dataframe\">\n",
       "  <thead>\n",
       "    <tr style=\"text-align: right;\">\n",
       "      <th></th>\n",
       "      <th>brd_port</th>\n",
       "      <th>off_port</th>\n",
       "      <th>Date</th>\n",
       "    </tr>\n",
       "  </thead>\n",
       "  <tbody>\n",
       "    <tr>\n",
       "      <th>0</th>\n",
       "      <td>LHR</td>\n",
       "      <td>ZRH</td>\n",
       "      <td>2013-03-07</td>\n",
       "    </tr>\n",
       "    <tr>\n",
       "      <th>1</th>\n",
       "      <td>SAL</td>\n",
       "      <td>CLT</td>\n",
       "      <td>2013-04-12</td>\n",
       "    </tr>\n",
       "    <tr>\n",
       "      <th>2</th>\n",
       "      <td>CLT</td>\n",
       "      <td>SAL</td>\n",
       "      <td>2013-07-15</td>\n",
       "    </tr>\n",
       "    <tr>\n",
       "      <th>3</th>\n",
       "      <td>AKL</td>\n",
       "      <td>SVO</td>\n",
       "      <td>2013-04-24</td>\n",
       "    </tr>\n",
       "    <tr>\n",
       "      <th>4</th>\n",
       "      <td>SVO</td>\n",
       "      <td>AKL</td>\n",
       "      <td>2013-05-14</td>\n",
       "    </tr>\n",
       "    <tr>\n",
       "      <th>5</th>\n",
       "      <td>DEN</td>\n",
       "      <td>LGA</td>\n",
       "      <td>2013-04-07</td>\n",
       "    </tr>\n",
       "    <tr>\n",
       "      <th>6</th>\n",
       "      <td>LGA</td>\n",
       "      <td>DEN</td>\n",
       "      <td>2013-04-11</td>\n",
       "    </tr>\n",
       "    <tr>\n",
       "      <th>7</th>\n",
       "      <td>NRT</td>\n",
       "      <td>SIN</td>\n",
       "      <td>2013-04-14</td>\n",
       "    </tr>\n",
       "    <tr>\n",
       "      <th>8</th>\n",
       "      <td>SIN</td>\n",
       "      <td>PEN</td>\n",
       "      <td>2013-04-16</td>\n",
       "    </tr>\n",
       "    <tr>\n",
       "      <th>9</th>\n",
       "      <td>PEN</td>\n",
       "      <td>BKK</td>\n",
       "      <td>2013-04-18</td>\n",
       "    </tr>\n",
       "    <tr>\n",
       "      <th>10</th>\n",
       "      <td>BKK</td>\n",
       "      <td>HND</td>\n",
       "      <td>2013-04-19</td>\n",
       "    </tr>\n",
       "    <tr>\n",
       "      <th>11</th>\n",
       "      <td>NRT</td>\n",
       "      <td>SIN</td>\n",
       "      <td>2013-04-14</td>\n",
       "    </tr>\n",
       "    <tr>\n",
       "      <th>12</th>\n",
       "      <td>SIN</td>\n",
       "      <td>PEN</td>\n",
       "      <td>2013-04-16</td>\n",
       "    </tr>\n",
       "    <tr>\n",
       "      <th>13</th>\n",
       "      <td>PEN</td>\n",
       "      <td>BKK</td>\n",
       "      <td>2013-04-18</td>\n",
       "    </tr>\n",
       "    <tr>\n",
       "      <th>14</th>\n",
       "      <td>BKK</td>\n",
       "      <td>HND</td>\n",
       "      <td>2013-04-19</td>\n",
       "    </tr>\n",
       "    <tr>\n",
       "      <th>15</th>\n",
       "      <td>NRT</td>\n",
       "      <td>SIN</td>\n",
       "      <td>2013-04-14</td>\n",
       "    </tr>\n",
       "    <tr>\n",
       "      <th>16</th>\n",
       "      <td>SIN</td>\n",
       "      <td>PEN</td>\n",
       "      <td>2013-04-16</td>\n",
       "    </tr>\n",
       "    <tr>\n",
       "      <th>17</th>\n",
       "      <td>PEN</td>\n",
       "      <td>BKK</td>\n",
       "      <td>2013-04-18</td>\n",
       "    </tr>\n",
       "    <tr>\n",
       "      <th>18</th>\n",
       "      <td>BKK</td>\n",
       "      <td>HND</td>\n",
       "      <td>2013-04-19</td>\n",
       "    </tr>\n",
       "    <tr>\n",
       "      <th>19</th>\n",
       "      <td>YYZ</td>\n",
       "      <td>TUS</td>\n",
       "      <td>2013-04-06</td>\n",
       "    </tr>\n",
       "    <tr>\n",
       "      <th>20</th>\n",
       "      <td>FCO</td>\n",
       "      <td>CTA</td>\n",
       "      <td>2013-05-25</td>\n",
       "    </tr>\n",
       "    <tr>\n",
       "      <th>21</th>\n",
       "      <td>FCO</td>\n",
       "      <td>CTA</td>\n",
       "      <td>2013-05-25</td>\n",
       "    </tr>\n",
       "    <tr>\n",
       "      <th>22</th>\n",
       "      <td>BDQ</td>\n",
       "      <td>YWG</td>\n",
       "      <td>2013-03-24</td>\n",
       "    </tr>\n",
       "    <tr>\n",
       "      <th>23</th>\n",
       "      <td>YWG</td>\n",
       "      <td>AMD</td>\n",
       "      <td>2013-08-05</td>\n",
       "    </tr>\n",
       "    <tr>\n",
       "      <th>24</th>\n",
       "      <td>YWG</td>\n",
       "      <td>AMD</td>\n",
       "      <td>2013-08-05</td>\n",
       "    </tr>\n",
       "    <tr>\n",
       "      <th>25</th>\n",
       "      <td>YWG</td>\n",
       "      <td>AMD</td>\n",
       "      <td>2013-08-22</td>\n",
       "    </tr>\n",
       "    <tr>\n",
       "      <th>26</th>\n",
       "      <td>BDQ</td>\n",
       "      <td>DEL</td>\n",
       "      <td>2013-03-24</td>\n",
       "    </tr>\n",
       "    <tr>\n",
       "      <th>27</th>\n",
       "      <td>BDQ</td>\n",
       "      <td>DEL</td>\n",
       "      <td>2013-03-24</td>\n",
       "    </tr>\n",
       "    <tr>\n",
       "      <th>28</th>\n",
       "      <td>BDQ</td>\n",
       "      <td>YWG</td>\n",
       "      <td>2013-03-24</td>\n",
       "    </tr>\n",
       "    <tr>\n",
       "      <th>29</th>\n",
       "      <td>BDQ</td>\n",
       "      <td>YWG</td>\n",
       "      <td>2013-03-24</td>\n",
       "    </tr>\n",
       "    <tr>\n",
       "      <th>...</th>\n",
       "      <td>...</td>\n",
       "      <td>...</td>\n",
       "      <td>...</td>\n",
       "    </tr>\n",
       "    <tr>\n",
       "      <th>999970</th>\n",
       "      <td>LYS</td>\n",
       "      <td>OTP</td>\n",
       "      <td>2013-06-07</td>\n",
       "    </tr>\n",
       "    <tr>\n",
       "      <th>999971</th>\n",
       "      <td>DUS</td>\n",
       "      <td>BNE</td>\n",
       "      <td>2013-05-09</td>\n",
       "    </tr>\n",
       "    <tr>\n",
       "      <th>999972</th>\n",
       "      <td>BKK</td>\n",
       "      <td>AUH</td>\n",
       "      <td>2013-10-12</td>\n",
       "    </tr>\n",
       "    <tr>\n",
       "      <th>999973</th>\n",
       "      <td>AUH</td>\n",
       "      <td>FRA</td>\n",
       "      <td>2013-10-13</td>\n",
       "    </tr>\n",
       "    <tr>\n",
       "      <th>999974</th>\n",
       "      <td>MAD</td>\n",
       "      <td>ORY</td>\n",
       "      <td>2013-05-16</td>\n",
       "    </tr>\n",
       "    <tr>\n",
       "      <th>999975</th>\n",
       "      <td>ORY</td>\n",
       "      <td>MAD</td>\n",
       "      <td>2013-05-20</td>\n",
       "    </tr>\n",
       "    <tr>\n",
       "      <th>999976</th>\n",
       "      <td>TXL</td>\n",
       "      <td>DME</td>\n",
       "      <td>2013-06-30</td>\n",
       "    </tr>\n",
       "    <tr>\n",
       "      <th>999977</th>\n",
       "      <td>DME</td>\n",
       "      <td>TXL</td>\n",
       "      <td>2013-07-29</td>\n",
       "    </tr>\n",
       "    <tr>\n",
       "      <th>999978</th>\n",
       "      <td>ATH</td>\n",
       "      <td>JKH</td>\n",
       "      <td>2013-05-07</td>\n",
       "    </tr>\n",
       "    <tr>\n",
       "      <th>999979</th>\n",
       "      <td>JKH</td>\n",
       "      <td>ATH</td>\n",
       "      <td>2013-05-12</td>\n",
       "    </tr>\n",
       "    <tr>\n",
       "      <th>999980</th>\n",
       "      <td>ARN</td>\n",
       "      <td>BKK</td>\n",
       "      <td>2013-05-30</td>\n",
       "    </tr>\n",
       "    <tr>\n",
       "      <th>999981</th>\n",
       "      <td>BKK</td>\n",
       "      <td>ARN</td>\n",
       "      <td>2013-08-13</td>\n",
       "    </tr>\n",
       "    <tr>\n",
       "      <th>999982</th>\n",
       "      <td>BEY</td>\n",
       "      <td>CAI</td>\n",
       "      <td>2013-05-11</td>\n",
       "    </tr>\n",
       "    <tr>\n",
       "      <th>999983</th>\n",
       "      <td>BEY</td>\n",
       "      <td>CAI</td>\n",
       "      <td>2013-05-11</td>\n",
       "    </tr>\n",
       "    <tr>\n",
       "      <th>999984</th>\n",
       "      <td>JNB</td>\n",
       "      <td>ICN</td>\n",
       "      <td>2013-05-12</td>\n",
       "    </tr>\n",
       "    <tr>\n",
       "      <th>999985</th>\n",
       "      <td>ORY</td>\n",
       "      <td>AAE</td>\n",
       "      <td>2013-08-19</td>\n",
       "    </tr>\n",
       "    <tr>\n",
       "      <th>999986</th>\n",
       "      <td>AAE</td>\n",
       "      <td>ORY</td>\n",
       "      <td>2013-09-16</td>\n",
       "    </tr>\n",
       "    <tr>\n",
       "      <th>999987</th>\n",
       "      <td>ORY</td>\n",
       "      <td>AAE</td>\n",
       "      <td>2013-08-19</td>\n",
       "    </tr>\n",
       "    <tr>\n",
       "      <th>999988</th>\n",
       "      <td>AAE</td>\n",
       "      <td>ORY</td>\n",
       "      <td>2013-09-16</td>\n",
       "    </tr>\n",
       "    <tr>\n",
       "      <th>999989</th>\n",
       "      <td>POM</td>\n",
       "      <td>MEL</td>\n",
       "      <td>2013-07-09</td>\n",
       "    </tr>\n",
       "    <tr>\n",
       "      <th>999990</th>\n",
       "      <td>MEL</td>\n",
       "      <td>ADL</td>\n",
       "      <td>2013-07-12</td>\n",
       "    </tr>\n",
       "    <tr>\n",
       "      <th>999991</th>\n",
       "      <td>MEM</td>\n",
       "      <td>LAS</td>\n",
       "      <td>2013-11-03</td>\n",
       "    </tr>\n",
       "    <tr>\n",
       "      <th>999992</th>\n",
       "      <td>LAS</td>\n",
       "      <td>MEM</td>\n",
       "      <td>2013-11-07</td>\n",
       "    </tr>\n",
       "    <tr>\n",
       "      <th>999993</th>\n",
       "      <td>CMB</td>\n",
       "      <td>MAA</td>\n",
       "      <td>2013-05-15</td>\n",
       "    </tr>\n",
       "    <tr>\n",
       "      <th>999994</th>\n",
       "      <td>MAA</td>\n",
       "      <td>CMB</td>\n",
       "      <td>2013-05-24</td>\n",
       "    </tr>\n",
       "    <tr>\n",
       "      <th>999995</th>\n",
       "      <td>MAA</td>\n",
       "      <td>CMB</td>\n",
       "      <td>2013-05-24</td>\n",
       "    </tr>\n",
       "    <tr>\n",
       "      <th>999996</th>\n",
       "      <td>MAA</td>\n",
       "      <td>CMB</td>\n",
       "      <td>2013-05-19</td>\n",
       "    </tr>\n",
       "    <tr>\n",
       "      <th>999997</th>\n",
       "      <td>AUS</td>\n",
       "      <td>RDU</td>\n",
       "      <td>2013-07-12</td>\n",
       "    </tr>\n",
       "    <tr>\n",
       "      <th>999998</th>\n",
       "      <td>TLS</td>\n",
       "      <td>ORY</td>\n",
       "      <td>2013-06-04</td>\n",
       "    </tr>\n",
       "    <tr>\n",
       "      <th>999999</th>\n",
       "      <td>ORY</td>\n",
       "      <td>TLS</td>\n",
       "      <td>2013-06-04</td>\n",
       "    </tr>\n",
       "  </tbody>\n",
       "</table>\n",
       "<p>1000000 rows × 3 columns</p>\n",
       "</div>"
      ],
      "text/plain": [
       "        brd_port  off_port       Date\n",
       "0       LHR       ZRH      2013-03-07\n",
       "1       SAL       CLT      2013-04-12\n",
       "2       CLT       SAL      2013-07-15\n",
       "3       AKL       SVO      2013-04-24\n",
       "4       SVO       AKL      2013-05-14\n",
       "5       DEN       LGA      2013-04-07\n",
       "6       LGA       DEN      2013-04-11\n",
       "7       NRT       SIN      2013-04-14\n",
       "8       SIN       PEN      2013-04-16\n",
       "9       PEN       BKK      2013-04-18\n",
       "10      BKK       HND      2013-04-19\n",
       "11      NRT       SIN      2013-04-14\n",
       "12      SIN       PEN      2013-04-16\n",
       "13      PEN       BKK      2013-04-18\n",
       "14      BKK       HND      2013-04-19\n",
       "15      NRT       SIN      2013-04-14\n",
       "16      SIN       PEN      2013-04-16\n",
       "17      PEN       BKK      2013-04-18\n",
       "18      BKK       HND      2013-04-19\n",
       "19      YYZ       TUS      2013-04-06\n",
       "20      FCO       CTA      2013-05-25\n",
       "21      FCO       CTA      2013-05-25\n",
       "22      BDQ       YWG      2013-03-24\n",
       "23      YWG       AMD      2013-08-05\n",
       "24      YWG       AMD      2013-08-05\n",
       "25      YWG       AMD      2013-08-22\n",
       "26      BDQ       DEL      2013-03-24\n",
       "27      BDQ       DEL      2013-03-24\n",
       "28      BDQ       YWG      2013-03-24\n",
       "29      BDQ       YWG      2013-03-24\n",
       "...          ...       ...        ...\n",
       "999970  LYS       OTP      2013-06-07\n",
       "999971  DUS       BNE      2013-05-09\n",
       "999972  BKK       AUH      2013-10-12\n",
       "999973  AUH       FRA      2013-10-13\n",
       "999974  MAD       ORY      2013-05-16\n",
       "999975  ORY       MAD      2013-05-20\n",
       "999976  TXL       DME      2013-06-30\n",
       "999977  DME       TXL      2013-07-29\n",
       "999978  ATH       JKH      2013-05-07\n",
       "999979  JKH       ATH      2013-05-12\n",
       "999980  ARN       BKK      2013-05-30\n",
       "999981  BKK       ARN      2013-08-13\n",
       "999982  BEY       CAI      2013-05-11\n",
       "999983  BEY       CAI      2013-05-11\n",
       "999984  JNB       ICN      2013-05-12\n",
       "999985  ORY       AAE      2013-08-19\n",
       "999986  AAE       ORY      2013-09-16\n",
       "999987  ORY       AAE      2013-08-19\n",
       "999988  AAE       ORY      2013-09-16\n",
       "999989  POM       MEL      2013-07-09\n",
       "999990  MEL       ADL      2013-07-12\n",
       "999991  MEM       LAS      2013-11-03\n",
       "999992  LAS       MEM      2013-11-07\n",
       "999993  CMB       MAA      2013-05-15\n",
       "999994  MAA       CMB      2013-05-24\n",
       "999995  MAA       CMB      2013-05-24\n",
       "999996  MAA       CMB      2013-05-19\n",
       "999997  AUS       RDU      2013-07-12\n",
       "999998  TLS       ORY      2013-06-04\n",
       "999999  ORY       TLS      2013-06-04\n",
       "\n",
       "[1000000 rows x 3 columns]"
      ]
     },
     "execution_count": 194,
     "metadata": {},
     "output_type": "execute_result"
    }
   ],
   "source": [
    "# Renombra la columna brd_time\n",
    "\n",
    "# Limpieza de la fecha de bookings\n",
    "def getDate(date):\n",
    "    return datetime.datetime(date.year,date.month,date.day)\n",
    "# return date.date()\n",
    "\n",
    "df_book['Date'] = df_book['brd_time           '].map(getDate)\n",
    "df_book.drop('brd_time           ',axis=1)"
   ]
  },
  {
   "cell_type": "code",
   "execution_count": 195,
   "metadata": {
    "collapsed": false
   },
   "outputs": [],
   "source": [
    "# Limpieza de origen y destino eliminando espacios\n",
    "\n",
    "def strip_str(str):\n",
    "    return str.strip()\n",
    "\n",
    "df_book['brd_port'] = df_book['brd_port'].map(strip_str)\n",
    "df_book['off_port'] = df_book['off_port'].map(strip_str)"
   ]
  },
  {
   "cell_type": "code",
   "execution_count": 196,
   "metadata": {
    "collapsed": true
   },
   "outputs": [],
   "source": [
    "merge = pd.merge(df_book, df_search, how='inner', \n",
    "                 left_on=['brd_port','off_port','Date'], \n",
    "                 right_on=[\"Origin\",\"Destination\",\"Seg1Date\"])"
   ]
  },
  {
   "cell_type": "code",
   "execution_count": 197,
   "metadata": {
    "collapsed": false
   },
   "outputs": [
    {
     "data": {
      "text/plain": [
       "102051"
      ]
     },
     "execution_count": 197,
     "metadata": {},
     "output_type": "execute_result"
    }
   ],
   "source": [
    "len(merge)"
   ]
  },
  {
   "cell_type": "code",
   "execution_count": null,
   "metadata": {
    "collapsed": true
   },
   "outputs": [],
   "source": [
    "# Si el merge hubiera sido un left join, nos interesaría generar una columna match a 0/1 que indique si ha habido un match\n",
    "# m['match'] = m.brd_port.apply(lambda b: not pd.isnull(b))"
   ]
  },
  {
   "cell_type": "code",
   "execution_count": null,
   "metadata": {
    "collapsed": true
   },
   "outputs": [],
   "source": [
    "## Quinto Ejercicio"
   ]
  },
  {
   "cell_type": "code",
   "execution_count": null,
   "metadata": {
    "collapsed": true
   },
   "outputs": [],
   "source": [
    "# Instalación de Flask\n",
    "#sudo pip install flask\n",
    "#flask es es una biblioteca de python para crear servicios web - para crear un API Resp\n",
    "#DJANGO también es otra biblioteca mucho más grande"
   ]
  },
  {
   "cell_type": "code",
   "execution_count": 198,
   "metadata": {
    "collapsed": true
   },
   "outputs": [],
   "source": [
    "# Creamos nuestro primer web service\n",
    "from flask import Flask"
   ]
  },
  {
   "cell_type": "code",
   "execution_count": 200,
   "metadata": {
    "collapsed": true
   },
   "outputs": [],
   "source": [
    "# Creación de la aplicación\n",
    "#del app\n",
    "app = Flask(\"Mi primer web service\")"
   ]
  },
  {
   "cell_type": "code",
   "execution_count": 202,
   "metadata": {
    "collapsed": false
   },
   "outputs": [],
   "source": [
    "# Usa decoradores de python para crear las rutas que vamos a utilizar para usar las rutas que utilizará la app\n",
    "@app.route('/hello')\n",
    "# Declaración de la función de python que ejecutará el web service\n",
    "def get_hello():\n",
    "    return \"Hola desde Flask!!\""
   ]
  },
  {
   "cell_type": "code",
   "execution_count": 203,
   "metadata": {
    "collapsed": true
   },
   "outputs": [],
   "source": [
    "# Abre un servidor que escucha en el puerto 5000\n",
    "# http://localhost:5000/hello\n",
    "app.run()"
   ]
  },
  {
   "cell_type": "code",
   "execution_count": null,
   "metadata": {
    "collapsed": true
   },
   "outputs": [],
   "source": []
  },
  {
   "cell_type": "code",
   "execution_count": 206,
   "metadata": {
    "collapsed": false
   },
   "outputs": [],
   "source": [
    "import pandas as pd\n",
    "\n",
    "def getTopAirports(n):\n",
    "    df = pd.read_csv(path_to_zips + \"/bookings.csv.bz2\", delimiter='^',usecols=[\"arr_port\",\"pax\"],nrows=1e5)\n",
    "    df_sum = df.groupby(\"arr_port\").sum().sort(\"pax\").reset_index()\n",
    "    return df_sum.sort('pax',ascending=False).head(n)"
   ]
  },
  {
   "cell_type": "code",
   "execution_count": 208,
   "metadata": {
    "collapsed": false
   },
   "outputs": [
    {
     "data": {
      "text/html": [
       "<div>\n",
       "<table border=\"1\" class=\"dataframe\">\n",
       "  <thead>\n",
       "    <tr style=\"text-align: right;\">\n",
       "      <th></th>\n",
       "      <th>arr_port</th>\n",
       "      <th>pax</th>\n",
       "    </tr>\n",
       "  </thead>\n",
       "  <tbody>\n",
       "    <tr>\n",
       "      <th>1505</th>\n",
       "      <td>LHR</td>\n",
       "      <td>1006</td>\n",
       "    </tr>\n",
       "    <tr>\n",
       "      <th>1504</th>\n",
       "      <td>MCO</td>\n",
       "      <td>861</td>\n",
       "    </tr>\n",
       "    <tr>\n",
       "      <th>1503</th>\n",
       "      <td>JFK</td>\n",
       "      <td>795</td>\n",
       "    </tr>\n",
       "  </tbody>\n",
       "</table>\n",
       "</div>"
      ],
      "text/plain": [
       "      arr_port   pax\n",
       "1505  LHR       1006\n",
       "1504  MCO        861\n",
       "1503  JFK        795"
      ]
     },
     "execution_count": 208,
     "metadata": {},
     "output_type": "execute_result"
    }
   ],
   "source": [
    "getTopAirports(3)"
   ]
  },
  {
   "cell_type": "code",
   "execution_count": 210,
   "metadata": {
    "collapsed": true
   },
   "outputs": [],
   "source": [
    "del app1\n",
    "app1 = Flask('Servicio Web Top Aeropuertos')\n",
    "@app1.route(\"/topAirport/<int:x>\")\n",
    "\n",
    "# Se le dice al servicio que recibirá un parámetro entero\n",
    "def get_topAirport(x):\n",
    "    return getTopAirports(x).to_json()"
   ]
  },
  {
   "cell_type": "code",
   "execution_count": null,
   "metadata": {
    "collapsed": true
   },
   "outputs": [],
   "source": [
    "app1.run()"
   ]
  },
  {
   "cell_type": "code",
   "execution_count": null,
   "metadata": {
    "collapsed": true
   },
   "outputs": [],
   "source": [
    "# Para consumir el servicio, en otra sesión de python ejecutar la petición:\n",
    "# pd.read_json(\"http://localhost:5000/topAirport/<número de aeropuertos>\")"
   ]
  }
 ],
 "metadata": {
  "kernelspec": {
   "display_name": "Python 2",
   "language": "python",
   "name": "python2"
  },
  "language_info": {
   "codemirror_mode": {
    "name": "ipython",
    "version": 2
   },
   "file_extension": ".py",
   "mimetype": "text/x-python",
   "name": "python",
   "nbconvert_exporter": "python",
   "pygments_lexer": "ipython2",
   "version": "2.7.10"
  }
 },
 "nbformat": 4,
 "nbformat_minor": 0
}
